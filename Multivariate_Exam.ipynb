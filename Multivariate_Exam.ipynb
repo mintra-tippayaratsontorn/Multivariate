{
  "nbformat": 4,
  "nbformat_minor": 0,
  "metadata": {
    "colab": {
      "name": "Multivariate Exam.ipynb",
      "provenance": [],
      "include_colab_link": true
    },
    "kernelspec": {
      "name": "python3",
      "display_name": "Python 3"
    },
    "language_info": {
      "name": "python"
    }
  },
  "cells": [
    {
      "cell_type": "markdown",
      "metadata": {
        "id": "view-in-github",
        "colab_type": "text"
      },
      "source": [
        "<a href=\"https://colab.research.google.com/github/mintra-tippayaratsontorn/Multivariate/blob/main/Multivariate_Exam.ipynb\" target=\"_parent\"><img src=\"https://colab.research.google.com/assets/colab-badge.svg\" alt=\"Open In Colab\"/></a>"
      ]
    },
    {
      "cell_type": "markdown",
      "metadata": {
        "id": "JZxiNADfaDtv"
      },
      "source": [
        "ให้นักศึกษาทำข้อสอบใน Colab Notebook นี้โดยกรอกข้อมูลของตัวเองใน cell ที่ 2 แล้วรัน cell ที่ 1 - 5 และเริ่มทำข้อสอบใน cell ที่ 6 เป็นต้นไป\n",
        "\n",
        "โดยโจทย์คือ\n",
        "1. ข้อมูลโจทย์ อยู่ใน ตัวแปร ```Data```\n",
        "2. ทำ clustering แล้วทำ visualize ข้อมูลแบบ 2 มิติ\n",
        "3. ลด Dimension ของข้อมูลเหลือ 2 มิติ แล้วทำ clustering แล้ว visualize ข้อมูลแบบ 2 มิติ\n",
        "4. เปรียบเทียบความแตกต่างของผลข้อ 2. กับ ข้อ 3.\n",
        "5. เขียน comments อธิบายทุกขั้นตอน\n",
        "6. อัด video อธิบาย code ทุกๆขั้นตอนรวมถึงผลแล้วอัพลง youtube ในรูปแบบ unlist \n",
        "7. commit โดยใช้ชื่อ commit เป็น link youtube ที่อธิบาย code ในข้อ 6.\n",
        "\n",
        "กำหนดส่งวันที่ 2 พฤษภาคม 2564 (โดยให้มากรอกวันที่ commit ครั้งสุดท้ายใน sheet: https://docs.google.com/spreadsheets/d/1_qJwLDJVtOW1HxBcf_FHVc6UT4J_SOonuR6o3EEnVzw/edit?usp=sharing ช่อง Final)"
      ]
    },
    {
      "cell_type": "code",
      "metadata": {
        "id": "cWl2x1bPGtQl"
      },
      "source": [
        "from sklearn.datasets import make_blobs\n",
        "import random,math\n",
        "import numpy as np\n",
        "import pandas"
      ],
      "execution_count": 1,
      "outputs": []
    },
    {
      "cell_type": "code",
      "metadata": {
        "id": "gZfzuiHsZksh"
      },
      "source": [
        "Name = 'มินตรา ทิพยรัตน์สุนทร'\n",
        "ID = '623020041-2'"
      ],
      "execution_count": 2,
      "outputs": []
    },
    {
      "cell_type": "code",
      "metadata": {
        "id": "8hFQXkF5aAiA"
      },
      "source": [
        "def DataGenerator(name,id):\n",
        "    random.seed(int(id[3:6]))\n",
        "    numfeat = random.randint(20,30)\n",
        "    ct = random.randint(len(name)-6,len(name))\n",
        "    \n",
        "    X, y = make_blobs(n_samples=10000, centers=ct, n_features=numfeat , random_state=int(id[3:6]))\n",
        "\n",
        "    print(f'{id[3:6]}:{numfeat}:{ct}')\n",
        "    X_t = (X[:,1]*2)+int(id[3])\n",
        "    X_t2 = (X[:,-1]*5)+int(id[4])\n",
        "\n",
        "    DT = np.append(X,X_t.reshape([10000,1]),axis=1)\n",
        "    DT = np.append(DT,X_t2.reshape([10000,1]),axis=1)\n",
        "    \n",
        "    return pandas.DataFrame(DT)"
      ],
      "execution_count": 3,
      "outputs": []
    },
    {
      "cell_type": "code",
      "metadata": {
        "colab": {
          "base_uri": "https://localhost:8080/"
        },
        "id": "hbXlxumSBX9i",
        "outputId": "eb7b5c33-66a2-4e51-e004-9fc9f239bcc9"
      },
      "source": [
        "Data = DataGenerator(Name,ID)"
      ],
      "execution_count": 4,
      "outputs": [
        {
          "output_type": "stream",
          "text": [
            "020:30:21\n"
          ],
          "name": "stdout"
        }
      ]
    },
    {
      "cell_type": "code",
      "metadata": {
        "colab": {
          "base_uri": "https://localhost:8080/",
          "height": 427
        },
        "id": "pQcCySXvBdN-",
        "outputId": "2cd324b7-9297-431a-92ab-b1ae9854a27b"
      },
      "source": [
        "Data"
      ],
      "execution_count": 5,
      "outputs": [
        {
          "output_type": "execute_result",
          "data": {
            "text/html": [
              "<div>\n",
              "<style scoped>\n",
              "    .dataframe tbody tr th:only-of-type {\n",
              "        vertical-align: middle;\n",
              "    }\n",
              "\n",
              "    .dataframe tbody tr th {\n",
              "        vertical-align: top;\n",
              "    }\n",
              "\n",
              "    .dataframe thead th {\n",
              "        text-align: right;\n",
              "    }\n",
              "</style>\n",
              "<table border=\"1\" class=\"dataframe\">\n",
              "  <thead>\n",
              "    <tr style=\"text-align: right;\">\n",
              "      <th></th>\n",
              "      <th>0</th>\n",
              "      <th>1</th>\n",
              "      <th>2</th>\n",
              "      <th>3</th>\n",
              "      <th>4</th>\n",
              "      <th>5</th>\n",
              "      <th>6</th>\n",
              "      <th>7</th>\n",
              "      <th>8</th>\n",
              "      <th>9</th>\n",
              "      <th>10</th>\n",
              "      <th>11</th>\n",
              "      <th>12</th>\n",
              "      <th>13</th>\n",
              "      <th>14</th>\n",
              "      <th>15</th>\n",
              "      <th>16</th>\n",
              "      <th>17</th>\n",
              "      <th>18</th>\n",
              "      <th>19</th>\n",
              "      <th>20</th>\n",
              "      <th>21</th>\n",
              "      <th>22</th>\n",
              "      <th>23</th>\n",
              "      <th>24</th>\n",
              "      <th>25</th>\n",
              "      <th>26</th>\n",
              "      <th>27</th>\n",
              "      <th>28</th>\n",
              "      <th>29</th>\n",
              "      <th>30</th>\n",
              "      <th>31</th>\n",
              "    </tr>\n",
              "  </thead>\n",
              "  <tbody>\n",
              "    <tr>\n",
              "      <th>0</th>\n",
              "      <td>0.075284</td>\n",
              "      <td>-4.698610</td>\n",
              "      <td>-1.796113</td>\n",
              "      <td>2.573403</td>\n",
              "      <td>5.392528</td>\n",
              "      <td>10.443115</td>\n",
              "      <td>2.936573</td>\n",
              "      <td>-0.189635</td>\n",
              "      <td>-7.934688</td>\n",
              "      <td>-0.762363</td>\n",
              "      <td>-2.573792</td>\n",
              "      <td>-5.407818</td>\n",
              "      <td>3.099271</td>\n",
              "      <td>9.654666</td>\n",
              "      <td>4.113177</td>\n",
              "      <td>1.498262</td>\n",
              "      <td>1.743397</td>\n",
              "      <td>8.195469</td>\n",
              "      <td>9.271724</td>\n",
              "      <td>5.936310</td>\n",
              "      <td>-4.687235</td>\n",
              "      <td>-4.340322</td>\n",
              "      <td>9.866275</td>\n",
              "      <td>0.468506</td>\n",
              "      <td>-0.754849</td>\n",
              "      <td>1.375600</td>\n",
              "      <td>4.734555</td>\n",
              "      <td>5.078867</td>\n",
              "      <td>0.523719</td>\n",
              "      <td>8.083784</td>\n",
              "      <td>-9.397219</td>\n",
              "      <td>42.418922</td>\n",
              "    </tr>\n",
              "    <tr>\n",
              "      <th>1</th>\n",
              "      <td>2.256112</td>\n",
              "      <td>8.518886</td>\n",
              "      <td>8.979545</td>\n",
              "      <td>7.161781</td>\n",
              "      <td>-10.400533</td>\n",
              "      <td>3.802111</td>\n",
              "      <td>-1.000701</td>\n",
              "      <td>0.184998</td>\n",
              "      <td>2.001371</td>\n",
              "      <td>-7.012582</td>\n",
              "      <td>-4.228139</td>\n",
              "      <td>4.328138</td>\n",
              "      <td>5.361476</td>\n",
              "      <td>6.371868</td>\n",
              "      <td>5.568158</td>\n",
              "      <td>-8.445997</td>\n",
              "      <td>-8.090063</td>\n",
              "      <td>4.859351</td>\n",
              "      <td>-5.967270</td>\n",
              "      <td>-4.406233</td>\n",
              "      <td>5.934493</td>\n",
              "      <td>10.004309</td>\n",
              "      <td>-0.279969</td>\n",
              "      <td>-6.497705</td>\n",
              "      <td>6.070259</td>\n",
              "      <td>2.203129</td>\n",
              "      <td>3.469625</td>\n",
              "      <td>6.208171</td>\n",
              "      <td>0.377686</td>\n",
              "      <td>0.121612</td>\n",
              "      <td>17.037773</td>\n",
              "      <td>2.608059</td>\n",
              "    </tr>\n",
              "    <tr>\n",
              "      <th>2</th>\n",
              "      <td>-4.591993</td>\n",
              "      <td>-10.669221</td>\n",
              "      <td>-3.033714</td>\n",
              "      <td>-7.941222</td>\n",
              "      <td>-3.385107</td>\n",
              "      <td>1.151519</td>\n",
              "      <td>-8.766998</td>\n",
              "      <td>-10.024388</td>\n",
              "      <td>3.863638</td>\n",
              "      <td>1.385751</td>\n",
              "      <td>-3.745489</td>\n",
              "      <td>-3.573622</td>\n",
              "      <td>-0.792904</td>\n",
              "      <td>-1.293412</td>\n",
              "      <td>-6.647738</td>\n",
              "      <td>11.117316</td>\n",
              "      <td>8.177635</td>\n",
              "      <td>6.614461</td>\n",
              "      <td>-9.780989</td>\n",
              "      <td>-9.422319</td>\n",
              "      <td>-8.674050</td>\n",
              "      <td>0.682759</td>\n",
              "      <td>3.058647</td>\n",
              "      <td>4.731224</td>\n",
              "      <td>5.171247</td>\n",
              "      <td>3.373287</td>\n",
              "      <td>-9.048570</td>\n",
              "      <td>0.863685</td>\n",
              "      <td>5.630171</td>\n",
              "      <td>-5.956894</td>\n",
              "      <td>-21.338442</td>\n",
              "      <td>-27.784471</td>\n",
              "    </tr>\n",
              "    <tr>\n",
              "      <th>3</th>\n",
              "      <td>4.758277</td>\n",
              "      <td>4.650678</td>\n",
              "      <td>3.417744</td>\n",
              "      <td>7.633664</td>\n",
              "      <td>-2.668778</td>\n",
              "      <td>-8.866351</td>\n",
              "      <td>6.640300</td>\n",
              "      <td>8.029495</td>\n",
              "      <td>-0.190749</td>\n",
              "      <td>6.538543</td>\n",
              "      <td>-1.583843</td>\n",
              "      <td>8.216617</td>\n",
              "      <td>4.404266</td>\n",
              "      <td>1.673135</td>\n",
              "      <td>10.348315</td>\n",
              "      <td>9.928181</td>\n",
              "      <td>6.842507</td>\n",
              "      <td>-2.705591</td>\n",
              "      <td>-9.555843</td>\n",
              "      <td>6.733607</td>\n",
              "      <td>-8.028439</td>\n",
              "      <td>-5.219506</td>\n",
              "      <td>-3.808931</td>\n",
              "      <td>9.797888</td>\n",
              "      <td>-4.350369</td>\n",
              "      <td>-3.533076</td>\n",
              "      <td>-2.854182</td>\n",
              "      <td>-8.573982</td>\n",
              "      <td>0.189384</td>\n",
              "      <td>-8.423114</td>\n",
              "      <td>9.301356</td>\n",
              "      <td>-40.115568</td>\n",
              "    </tr>\n",
              "    <tr>\n",
              "      <th>4</th>\n",
              "      <td>4.064698</td>\n",
              "      <td>7.523146</td>\n",
              "      <td>-9.102260</td>\n",
              "      <td>-6.640667</td>\n",
              "      <td>9.335034</td>\n",
              "      <td>1.352716</td>\n",
              "      <td>9.313866</td>\n",
              "      <td>2.225078</td>\n",
              "      <td>5.140301</td>\n",
              "      <td>-2.074142</td>\n",
              "      <td>5.902454</td>\n",
              "      <td>-0.412591</td>\n",
              "      <td>-2.478493</td>\n",
              "      <td>-2.306601</td>\n",
              "      <td>-0.877745</td>\n",
              "      <td>7.565374</td>\n",
              "      <td>-1.823563</td>\n",
              "      <td>-2.281004</td>\n",
              "      <td>-2.832499</td>\n",
              "      <td>1.272504</td>\n",
              "      <td>2.267397</td>\n",
              "      <td>-6.968854</td>\n",
              "      <td>2.769761</td>\n",
              "      <td>-4.333420</td>\n",
              "      <td>8.371068</td>\n",
              "      <td>-8.833340</td>\n",
              "      <td>5.678846</td>\n",
              "      <td>-2.901228</td>\n",
              "      <td>-8.408941</td>\n",
              "      <td>5.386016</td>\n",
              "      <td>15.046292</td>\n",
              "      <td>28.930082</td>\n",
              "    </tr>\n",
              "    <tr>\n",
              "      <th>...</th>\n",
              "      <td>...</td>\n",
              "      <td>...</td>\n",
              "      <td>...</td>\n",
              "      <td>...</td>\n",
              "      <td>...</td>\n",
              "      <td>...</td>\n",
              "      <td>...</td>\n",
              "      <td>...</td>\n",
              "      <td>...</td>\n",
              "      <td>...</td>\n",
              "      <td>...</td>\n",
              "      <td>...</td>\n",
              "      <td>...</td>\n",
              "      <td>...</td>\n",
              "      <td>...</td>\n",
              "      <td>...</td>\n",
              "      <td>...</td>\n",
              "      <td>...</td>\n",
              "      <td>...</td>\n",
              "      <td>...</td>\n",
              "      <td>...</td>\n",
              "      <td>...</td>\n",
              "      <td>...</td>\n",
              "      <td>...</td>\n",
              "      <td>...</td>\n",
              "      <td>...</td>\n",
              "      <td>...</td>\n",
              "      <td>...</td>\n",
              "      <td>...</td>\n",
              "      <td>...</td>\n",
              "      <td>...</td>\n",
              "      <td>...</td>\n",
              "    </tr>\n",
              "    <tr>\n",
              "      <th>9995</th>\n",
              "      <td>-7.138307</td>\n",
              "      <td>4.983342</td>\n",
              "      <td>1.339236</td>\n",
              "      <td>8.088569</td>\n",
              "      <td>-10.446501</td>\n",
              "      <td>-5.529515</td>\n",
              "      <td>10.334767</td>\n",
              "      <td>-7.225092</td>\n",
              "      <td>4.129994</td>\n",
              "      <td>-0.540194</td>\n",
              "      <td>-9.210808</td>\n",
              "      <td>3.844797</td>\n",
              "      <td>6.914146</td>\n",
              "      <td>0.271029</td>\n",
              "      <td>-5.131648</td>\n",
              "      <td>-5.780360</td>\n",
              "      <td>6.674650</td>\n",
              "      <td>6.924942</td>\n",
              "      <td>6.454967</td>\n",
              "      <td>9.115160</td>\n",
              "      <td>-4.490058</td>\n",
              "      <td>-4.422617</td>\n",
              "      <td>-2.889046</td>\n",
              "      <td>-7.533495</td>\n",
              "      <td>-7.009099</td>\n",
              "      <td>-1.219168</td>\n",
              "      <td>-7.463350</td>\n",
              "      <td>7.159741</td>\n",
              "      <td>5.096300</td>\n",
              "      <td>-7.878508</td>\n",
              "      <td>9.966685</td>\n",
              "      <td>-37.392539</td>\n",
              "    </tr>\n",
              "    <tr>\n",
              "      <th>9996</th>\n",
              "      <td>9.447729</td>\n",
              "      <td>-10.343070</td>\n",
              "      <td>-7.072834</td>\n",
              "      <td>-2.435520</td>\n",
              "      <td>6.592739</td>\n",
              "      <td>12.163324</td>\n",
              "      <td>8.033275</td>\n",
              "      <td>3.114361</td>\n",
              "      <td>-2.093757</td>\n",
              "      <td>-0.516587</td>\n",
              "      <td>3.299198</td>\n",
              "      <td>4.476070</td>\n",
              "      <td>7.310476</td>\n",
              "      <td>-2.404773</td>\n",
              "      <td>7.754966</td>\n",
              "      <td>6.011323</td>\n",
              "      <td>-5.071566</td>\n",
              "      <td>2.357294</td>\n",
              "      <td>8.332472</td>\n",
              "      <td>-11.877982</td>\n",
              "      <td>-7.461121</td>\n",
              "      <td>8.524154</td>\n",
              "      <td>7.137896</td>\n",
              "      <td>5.009467</td>\n",
              "      <td>5.933162</td>\n",
              "      <td>-6.094294</td>\n",
              "      <td>-7.637146</td>\n",
              "      <td>5.677159</td>\n",
              "      <td>-0.870917</td>\n",
              "      <td>4.543106</td>\n",
              "      <td>-20.686139</td>\n",
              "      <td>24.715530</td>\n",
              "    </tr>\n",
              "    <tr>\n",
              "      <th>9997</th>\n",
              "      <td>3.311942</td>\n",
              "      <td>2.666463</td>\n",
              "      <td>3.484471</td>\n",
              "      <td>5.891362</td>\n",
              "      <td>-2.491019</td>\n",
              "      <td>-9.337824</td>\n",
              "      <td>5.691715</td>\n",
              "      <td>5.384492</td>\n",
              "      <td>0.614234</td>\n",
              "      <td>7.759929</td>\n",
              "      <td>-0.842790</td>\n",
              "      <td>5.305373</td>\n",
              "      <td>4.363303</td>\n",
              "      <td>2.617577</td>\n",
              "      <td>10.079838</td>\n",
              "      <td>7.306719</td>\n",
              "      <td>7.019005</td>\n",
              "      <td>-1.421492</td>\n",
              "      <td>-10.933845</td>\n",
              "      <td>7.932982</td>\n",
              "      <td>-9.746023</td>\n",
              "      <td>-1.886430</td>\n",
              "      <td>-4.153681</td>\n",
              "      <td>8.732104</td>\n",
              "      <td>-6.278363</td>\n",
              "      <td>-4.614760</td>\n",
              "      <td>-3.915977</td>\n",
              "      <td>-9.051466</td>\n",
              "      <td>1.071257</td>\n",
              "      <td>-9.172472</td>\n",
              "      <td>5.332926</td>\n",
              "      <td>-43.862361</td>\n",
              "    </tr>\n",
              "    <tr>\n",
              "      <th>9998</th>\n",
              "      <td>1.248170</td>\n",
              "      <td>-7.797526</td>\n",
              "      <td>5.100480</td>\n",
              "      <td>11.057906</td>\n",
              "      <td>-0.959574</td>\n",
              "      <td>2.284569</td>\n",
              "      <td>-2.644382</td>\n",
              "      <td>6.240631</td>\n",
              "      <td>-8.954249</td>\n",
              "      <td>7.577219</td>\n",
              "      <td>6.391494</td>\n",
              "      <td>-0.025679</td>\n",
              "      <td>1.956391</td>\n",
              "      <td>5.588021</td>\n",
              "      <td>0.656975</td>\n",
              "      <td>-2.679199</td>\n",
              "      <td>-6.405252</td>\n",
              "      <td>5.709901</td>\n",
              "      <td>3.584074</td>\n",
              "      <td>0.743031</td>\n",
              "      <td>8.051099</td>\n",
              "      <td>-5.383952</td>\n",
              "      <td>-3.905264</td>\n",
              "      <td>-4.378429</td>\n",
              "      <td>-3.166401</td>\n",
              "      <td>3.127415</td>\n",
              "      <td>-9.488871</td>\n",
              "      <td>2.606443</td>\n",
              "      <td>3.857692</td>\n",
              "      <td>-10.920978</td>\n",
              "      <td>-15.595052</td>\n",
              "      <td>-52.604891</td>\n",
              "    </tr>\n",
              "    <tr>\n",
              "      <th>9999</th>\n",
              "      <td>2.028489</td>\n",
              "      <td>0.003509</td>\n",
              "      <td>-8.167729</td>\n",
              "      <td>3.527283</td>\n",
              "      <td>7.546339</td>\n",
              "      <td>7.403329</td>\n",
              "      <td>6.807357</td>\n",
              "      <td>4.496732</td>\n",
              "      <td>-10.049710</td>\n",
              "      <td>8.371454</td>\n",
              "      <td>6.311324</td>\n",
              "      <td>0.470191</td>\n",
              "      <td>7.673391</td>\n",
              "      <td>7.759508</td>\n",
              "      <td>-2.518462</td>\n",
              "      <td>-4.614669</td>\n",
              "      <td>-0.465492</td>\n",
              "      <td>-3.765381</td>\n",
              "      <td>-3.886814</td>\n",
              "      <td>4.311555</td>\n",
              "      <td>0.853585</td>\n",
              "      <td>-5.663640</td>\n",
              "      <td>0.763559</td>\n",
              "      <td>-4.301225</td>\n",
              "      <td>-8.169169</td>\n",
              "      <td>6.381922</td>\n",
              "      <td>8.813416</td>\n",
              "      <td>-8.031246</td>\n",
              "      <td>-6.420540</td>\n",
              "      <td>-4.206465</td>\n",
              "      <td>0.007017</td>\n",
              "      <td>-19.032327</td>\n",
              "    </tr>\n",
              "  </tbody>\n",
              "</table>\n",
              "<p>10000 rows × 32 columns</p>\n",
              "</div>"
            ],
            "text/plain": [
              "            0          1         2   ...         29         30         31\n",
              "0     0.075284  -4.698610 -1.796113  ...   8.083784  -9.397219  42.418922\n",
              "1     2.256112   8.518886  8.979545  ...   0.121612  17.037773   2.608059\n",
              "2    -4.591993 -10.669221 -3.033714  ...  -5.956894 -21.338442 -27.784471\n",
              "3     4.758277   4.650678  3.417744  ...  -8.423114   9.301356 -40.115568\n",
              "4     4.064698   7.523146 -9.102260  ...   5.386016  15.046292  28.930082\n",
              "...        ...        ...       ...  ...        ...        ...        ...\n",
              "9995 -7.138307   4.983342  1.339236  ...  -7.878508   9.966685 -37.392539\n",
              "9996  9.447729 -10.343070 -7.072834  ...   4.543106 -20.686139  24.715530\n",
              "9997  3.311942   2.666463  3.484471  ...  -9.172472   5.332926 -43.862361\n",
              "9998  1.248170  -7.797526  5.100480  ... -10.920978 -15.595052 -52.604891\n",
              "9999  2.028489   0.003509 -8.167729  ...  -4.206465   0.007017 -19.032327\n",
              "\n",
              "[10000 rows x 32 columns]"
            ]
          },
          "metadata": {
            "tags": []
          },
          "execution_count": 5
        }
      ]
    },
    {
      "cell_type": "markdown",
      "metadata": {
        "id": "HLYGcXYpYnm4"
      },
      "source": [
        "#2. ทำ clustering แล้วทำ visualize ข้อมูลแบบ 2 มิติ"
      ]
    },
    {
      "cell_type": "code",
      "metadata": {
        "id": "jUARadkFEuyJ"
      },
      "source": [
        "#Import \n",
        "from sklearn.cluster import KMeans\n",
        "#import function ที่ต้องการใช้ในการทำ K-mean จาก sklearn.cluster"
      ],
      "execution_count": 6,
      "outputs": []
    },
    {
      "cell_type": "code",
      "metadata": {
        "id": "qjCy0bwIY6YP"
      },
      "source": [
        "#Defind \n",
        "kmeans = KMeans(n_clusters=3,random_state=2021)\n",
        "#กำหนดค่า k ที่เราต้องการ (ถ้ามีค่า defult ไม่จำเป็นต้องกำหนดค่า k ก็ได้)\n",
        "#random_state=2021 คือกำหนดให้เริ่มสุ่มที่จุดเดียวกัน จะได้มีการจัดกลุ่มที่เหมือนกัน"
      ],
      "execution_count": 7,
      "outputs": []
    },
    {
      "cell_type": "code",
      "metadata": {
        "id": "Gje9fXElY6Uw",
        "outputId": "59f8d0c5-28e8-47ed-81a5-f410a934fb62",
        "colab": {
          "base_uri": "https://localhost:8080/"
        }
      },
      "source": [
        "kmeans.fit(Data)"
      ],
      "execution_count": 8,
      "outputs": [
        {
          "output_type": "execute_result",
          "data": {
            "text/plain": [
              "KMeans(algorithm='auto', copy_x=True, init='k-means++', max_iter=300,\n",
              "       n_clusters=3, n_init=10, n_jobs=None, precompute_distances='auto',\n",
              "       random_state=2021, tol=0.0001, verbose=0)"
            ]
          },
          "metadata": {
            "tags": []
          },
          "execution_count": 8
        }
      ]
    },
    {
      "cell_type": "code",
      "metadata": {
        "id": "TpDYdD8gY6SX",
        "outputId": "45001955-7d73-4216-a3c5-b7bf2c30ba9d",
        "colab": {
          "base_uri": "https://localhost:8080/"
        }
      },
      "source": [
        "#แสดงจุดที่คำนวณได้\n",
        "kmeans.cluster_centers_"
      ],
      "execution_count": 9,
      "outputs": [
        {
          "output_type": "execute_result",
          "data": {
            "text/plain": [
              "array([[-8.16151767e-01, -1.84758040e+00, -1.52449266e+00,\n",
              "         8.44410857e-01, -2.65291922e-01, -5.48448758e-01,\n",
              "        -6.13576057e-01, -2.83073583e+00, -1.29244198e+00,\n",
              "         3.39404361e+00,  6.60132652e-01,  2.16080330e+00,\n",
              "         2.91630841e+00,  3.97753092e+00, -1.57814277e+00,\n",
              "         5.80253297e-01,  3.17792778e+00,  1.96273218e+00,\n",
              "        -3.35796823e+00,  1.58583016e+00, -1.58307902e+00,\n",
              "        -3.69561038e-01, -2.06996906e+00,  4.42750940e-02,\n",
              "        -1.42464231e+00, -1.87011543e-02, -1.52446073e+00,\n",
              "        -1.90823535e+00,  1.43698578e+00, -7.18138414e+00,\n",
              "        -3.69516080e+00, -3.39069207e+01],\n",
              "       [ 1.29609109e+00,  2.70233340e+00, -2.20401243e+00,\n",
              "         1.49390482e+00,  1.34892749e+00, -1.65622485e+00,\n",
              "         2.67608974e+00,  2.06124709e+00,  4.00386885e+00,\n",
              "        -2.23180600e+00,  7.09227303e-01, -4.26574423e-01,\n",
              "        -1.38912563e+00, -1.12422906e+00, -3.93099446e+00,\n",
              "        -4.50634641e-01, -6.89687693e-02,  1.76720219e+00,\n",
              "         1.48291060e+00, -1.81631977e+00,  1.05724101e+00,\n",
              "        -9.41951946e-01, -4.71487941e-01, -2.25800694e+00,\n",
              "         3.94963573e+00, -3.00872725e+00,  5.39880163e-01,\n",
              "         2.00371746e+00,  1.30878297e+00,  2.35494720e+00,\n",
              "         5.40466680e+00,  1.37747360e+01],\n",
              "       [ 1.02105603e+00, -3.38250186e+00, -5.33388843e-01,\n",
              "         2.30248962e+00, -2.63184613e+00,  3.13381815e+00,\n",
              "         5.22349351e+00, -1.59385498e+00, -3.31146897e+00,\n",
              "        -3.63769874e+00,  2.55803634e+00, -1.15691736e+00,\n",
              "         1.81992316e+00,  2.19289993e+00,  6.50776034e+00,\n",
              "         1.92719828e+00, -3.41293090e-01,  4.45391345e+00,\n",
              "         5.22253130e+00, -2.05698121e+00, -1.13241131e+00,\n",
              "         1.49284744e+00,  4.02928659e+00,  1.41144372e+00,\n",
              "         3.64524332e+00, -2.23076550e-01, -2.30319399e+00,\n",
              "        -5.63415143e-01, -2.30459321e+00,  6.79800919e+00,\n",
              "        -6.76500373e+00,  3.59900459e+01]])"
            ]
          },
          "metadata": {
            "tags": []
          },
          "execution_count": 9
        }
      ]
    },
    {
      "cell_type": "code",
      "metadata": {
        "id": "Pxut8invY_pn",
        "outputId": "927677cb-7503-40c9-9306-8d843e7742f5",
        "colab": {
          "base_uri": "https://localhost:8080/"
        }
      },
      "source": [
        "#ทดสอบการจัดกลุ่มของ Data\n",
        "y = kmeans.predict(Data)\n",
        "y"
      ],
      "execution_count": 10,
      "outputs": [
        {
          "output_type": "execute_result",
          "data": {
            "text/plain": [
              "array([2, 1, 0, ..., 0, 0, 0], dtype=int32)"
            ]
          },
          "metadata": {
            "tags": []
          },
          "execution_count": 10
        }
      ]
    },
    {
      "cell_type": "markdown",
      "metadata": {
        "id": "N5OcoqrKZFV3"
      },
      "source": [
        "ทำ PCA ลด Dimention"
      ]
    },
    {
      "cell_type": "code",
      "metadata": {
        "id": "l_qpP9GxY_nK"
      },
      "source": [
        "from sklearn.decomposition import PCA"
      ],
      "execution_count": 11,
      "outputs": []
    },
    {
      "cell_type": "code",
      "metadata": {
        "id": "ZLaIEEQjY_kw"
      },
      "source": [
        "pca = PCA(n_components=2)"
      ],
      "execution_count": 12,
      "outputs": []
    },
    {
      "cell_type": "code",
      "metadata": {
        "id": "KtMMIFZvZJcD"
      },
      "source": [
        "new_pca = pca.fit_transform(Data)"
      ],
      "execution_count": 13,
      "outputs": []
    },
    {
      "cell_type": "markdown",
      "metadata": {
        "id": "KZQTeYBJcXx6"
      },
      "source": [
        "plot กราฟเพื่อดูการกระจายกลุ่ม"
      ]
    },
    {
      "cell_type": "code",
      "metadata": {
        "id": "ae5YBQO_cNUL"
      },
      "source": [
        "import matplotlib.pyplot as plt"
      ],
      "execution_count": 16,
      "outputs": []
    },
    {
      "cell_type": "code",
      "metadata": {
        "id": "mtC0-RQqbmAL",
        "outputId": "7e9ee158-c3bb-49f8-f120-3d1b2a872b46",
        "colab": {
          "base_uri": "https://localhost:8080/",
          "height": 283
        }
      },
      "source": [
        "kmeans = KMeans(random_state=2021)\n",
        "kmeans.fit(Data)\n",
        "y = kmeans.predict(Data)\n",
        "plt.scatter(new_pca[:,0],new_pca[:,1],c=y)"
      ],
      "execution_count": 17,
      "outputs": [
        {
          "output_type": "execute_result",
          "data": {
            "text/plain": [
              "<matplotlib.collections.PathCollection at 0x7f5f917a23d0>"
            ]
          },
          "metadata": {
            "tags": []
          },
          "execution_count": 17
        },
        {
          "output_type": "display_data",
          "data": {
            "image/png": "[encoded data removed]",
            "text/plain": [
              "<Figure size 432x288 with 1 Axes>"
            ]
          },
          "metadata": {
            "tags": [],
            "needs_background": "light"
          }
        }
      ]
    },
    {
      "cell_type": "markdown",
      "metadata": {
        "id": "MMUxyY2LZTnG"
      },
      "source": [
        "หาค่า k ที่เหมาะสมของ data ด้วยวิธี \" The elbow method \""
      ]
    },
    {
      "cell_type": "code",
      "metadata": {
        "id": "q9VgQ0KcZJXG",
        "outputId": "17a518d7-554d-41a6-d123-9ff0dd60cf8a",
        "colab": {
          "base_uri": "https://localhost:8080/"
        }
      },
      "source": [
        "#คำนวนค่า SSE ของ data\n",
        "kmeans.inertia_ "
      ],
      "execution_count": 18,
      "outputs": [
        {
          "output_type": "execute_result",
          "data": {
            "text/plain": [
              "6950435.178544457"
            ]
          },
          "metadata": {
            "tags": []
          },
          "execution_count": 18
        }
      ]
    },
    {
      "cell_type": "code",
      "metadata": {
        "id": "Nenew8AcZQRg"
      },
      "source": [
        "SSE = list()\n",
        "for k in [1,2,3,4,5,6,7,8]:\n",
        "    kmeans = KMeans(n_clusters = k , random_state = 2021)\n",
        "    XX = kmeans.fit(Data)\n",
        "    SSE.append(kmeans.inertia_)"
      ],
      "execution_count": 19,
      "outputs": []
    },
    {
      "cell_type": "code",
      "metadata": {
        "id": "LHNSOWQ_ZQO6",
        "outputId": "977eab5b-a90c-4c80-ce5e-3e956799f510",
        "colab": {
          "base_uri": "https://localhost:8080/"
        }
      },
      "source": [
        "SSE"
      ],
      "execution_count": 20,
      "outputs": [
        {
          "output_type": "execute_result",
          "data": {
            "text/plain": [
              "[21524218.111485694,\n",
              " 12632337.932196785,\n",
              " 11167069.793777393,\n",
              " 9982568.8212212,\n",
              " 9213686.155533906,\n",
              " 8378635.732941387,\n",
              " 7539813.617160626,\n",
              " 6950435.178544457]"
            ]
          },
          "metadata": {
            "tags": []
          },
          "execution_count": 20
        }
      ]
    },
    {
      "cell_type": "code",
      "metadata": {
        "id": "yikzPVRmZQKm",
        "outputId": "6e8842a1-a98a-45fa-e690-2db9524406be",
        "colab": {
          "base_uri": "https://localhost:8080/",
          "height": 290
        }
      },
      "source": [
        "#นำค่า SSE ที่ได้มา plot กราฟเพื่อดูว่ามีกี่กลุ่ม\n",
        "plt.plot([1,2,3,4,5,6,7,8],SSE,'o-b')\n",
        "plt.xlabel('k')\n",
        "plt.ylabel('SSE');"
      ],
      "execution_count": 21,
      "outputs": [
        {
          "output_type": "display_data",
          "data": {
            "image/png": "[encoded data removed]",
            "text/plain": [
              "<Figure size 432x288 with 1 Axes>"
            ]
          },
          "metadata": {
            "tags": [],
            "needs_background": "light"
          }
        }
      ]
    },
    {
      "cell_type": "markdown",
      "metadata": {
        "id": "rbj9qQzTZa9G"
      },
      "source": [
        "จากกราฟจะเห็นได้ว่า k มี 3 กลุ่ม ดูจากจุดที่ k ที่\n",
        "ใช้วิธีการหาค่า k ด้วยวิธี \" The silhouette coefficient \""
      ]
    },
    {
      "cell_type": "code",
      "metadata": {
        "id": "KZaXVz96ZQIY"
      },
      "source": [
        "#import function metrics มาใช้\n",
        "from sklearn import metrics"
      ],
      "execution_count": 22,
      "outputs": []
    },
    {
      "cell_type": "code",
      "metadata": {
        "id": "8Ou5nk7TZQF0"
      },
      "source": [
        "SilH = list()\n",
        "for k in [2,3,4,5,6,7,8]:\n",
        "    kmeans = KMeans(n_clusters = k , random_state = 2021)\n",
        "    kmeans.fit(Data)\n",
        "    score = metrics.silhouette_score(Data,kmeans.labels_)\n",
        "    SilH.append(score)"
      ],
      "execution_count": 23,
      "outputs": []
    },
    {
      "cell_type": "code",
      "metadata": {
        "id": "6YafXW8eZfll",
        "outputId": "f08b2b02-93d3-47e1-ab62-68fa5acf8029",
        "colab": {
          "base_uri": "https://localhost:8080/",
          "height": 279
        }
      },
      "source": [
        "plt.plot([2,3,4,5,6,7,8],SilH,'o-g')\n",
        "plt.xlabel('k')\n",
        "plt.ylabel('SilH');"
      ],
      "execution_count": 27,
      "outputs": [
        {
          "output_type": "display_data",
          "data": {
            "image/png": "[encoded data removed]",
            "text/plain": [
              "<Figure size 432x288 with 1 Axes>"
            ]
          },
          "metadata": {
            "tags": [],
            "needs_background": "light"
          }
        }
      ]
    },
    {
      "cell_type": "markdown",
      "metadata": {
        "id": "0f-CyCDleOHY"
      },
      "source": [
        "จากกราฟจะเห็นได้ว่า k มี 3 กลุ่ม"
      ]
    },
    {
      "cell_type": "code",
      "metadata": {
        "id": "RKdIVX9ueHZ-"
      },
      "source": [
        ""
      ],
      "execution_count": null,
      "outputs": []
    }
  ]
}