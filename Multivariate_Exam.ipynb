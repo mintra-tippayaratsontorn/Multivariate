{
  "nbformat": 4,
  "nbformat_minor": 0,
  "metadata": {
    "colab": {
      "name": "Multivariate Exam.ipynb",
      "provenance": [],
      "include_colab_link": true
    },
    "kernelspec": {
      "name": "python3",
      "display_name": "Python 3"
    },
    "language_info": {
      "name": "python"
    }
  },
  "cells": [
    {
      "cell_type": "markdown",
      "metadata": {
        "id": "view-in-github",
        "colab_type": "text"
      },
      "source": [
        "<a href=\"https://colab.research.google.com/github/mintra-tippayaratsontorn/Multivariate/blob/main/Multivariate_Exam.ipynb\" target=\"_parent\"><img src=\"https://colab.research.google.com/assets/colab-badge.svg\" alt=\"Open In Colab\"/></a>"
      ]
    },
    {
      "cell_type": "markdown",
      "metadata": {
        "id": "JZxiNADfaDtv"
      },
      "source": [
        "ให้นักศึกษาทำข้อสอบใน Colab Notebook นี้โดยกรอกข้อมูลของตัวเองใน cell ที่ 2 แล้วรัน cell ที่ 1 - 5 และเริ่มทำข้อสอบใน cell ที่ 6 เป็นต้นไป\n",
        "\n",
        "โดยโจทย์คือ\n",
        "1. ข้อมูลโจทย์ อยู่ใน ตัวแปร ```Data```\n",
        "2. ทำ clustering แล้วทำ visualize ข้อมูลแบบ 2 มิติ\n",
        "3. ลด Dimension ของข้อมูลเหลือ 2 มิติ แล้วทำ clustering แล้ว visualize ข้อมูลแบบ 2 มิติ\n",
        "4. เปรียบเทียบความแตกต่างของผลข้อ 2. กับ ข้อ 3.\n",
        "5. เขียน comments อธิบายทุกขั้นตอน\n",
        "6. อัด video อธิบาย code ทุกๆขั้นตอนรวมถึงผลแล้วอัพลง youtube ในรูปแบบ unlist \n",
        "7. commit โดยใช้ชื่อ commit เป็น link youtube ที่อธิบาย code ในข้อ 6.\n",
        "\n",
        "กำหนดส่งวันที่ 2 พฤษภาคม 2564 (โดยให้มากรอกวันที่ commit ครั้งสุดท้ายใน sheet: https://docs.google.com/spreadsheets/d/1_qJwLDJVtOW1HxBcf_FHVc6UT4J_SOonuR6o3EEnVzw/edit?usp=sharing ช่อง Final)"
      ]
    },
    {
      "cell_type": "code",
      "metadata": {
        "id": "cWl2x1bPGtQl"
      },
      "source": [
        "from sklearn.datasets import make_blobs\n",
        "import random,math\n",
        "import numpy as np\n",
        "import pandas"
      ],
      "execution_count": null,
      "outputs": []
    },
    {
      "cell_type": "code",
      "metadata": {
        "id": "gZfzuiHsZksh"
      },
      "source": [
        "Name = 'มินตรา ทิพยรัตน์สุนทร'\n",
        "ID = '623020041-2'"
      ],
      "execution_count": null,
      "outputs": []
    },
    {
      "cell_type": "code",
      "metadata": {
        "id": "8hFQXkF5aAiA"
      },
      "source": [
        "def DataGenerator(name,id):\n",
        "    random.seed(int(id[3:6]))\n",
        "    numfeat = random.randint(20,30)\n",
        "    ct = random.randint(len(name)-6,len(name))\n",
        "    \n",
        "    X, y = make_blobs(n_samples=10000, centers=ct, n_features=numfeat , random_state=int(id[3:6]))\n",
        "\n",
        "    print(f'{id[3:6]}:{numfeat}:{ct}')\n",
        "    X_t = (X[:,1]*2)+int(id[3])\n",
        "    X_t2 = (X[:,-1]*5)+int(id[4])\n",
        "\n",
        "    DT = np.append(X,X_t.reshape([10000,1]),axis=1)\n",
        "    DT = np.append(DT,X_t2.reshape([10000,1]),axis=1)\n",
        "    \n",
        "    return pandas.DataFrame(DT)"
      ],
      "execution_count": null,
      "outputs": []
    },
    {
      "cell_type": "code",
      "metadata": {
        "id": "hbXlxumSBX9i"
      },
      "source": [
        "Data = DataGenerator(Name,ID)"
      ],
      "execution_count": null,
      "outputs": []
    },
    {
      "cell_type": "code",
      "metadata": {
        "id": "pQcCySXvBdN-"
      },
      "source": [
        "Data"
      ],
      "execution_count": null,
      "outputs": []
    },
    {
      "cell_type": "markdown",
      "metadata": {
        "id": "HY6P38RGMpKB"
      },
      "source": [
        "ทำการเตรียมข้อมูลก่อนจะนำข้อมูลไปใช้ โดยการตัดตัวที่มี correlation กันออกไป เพื่อลดข้อมูลที่เหมือนกันออกจาก Data"
      ]
    },
    {
      "cell_type": "code",
      "metadata": {
        "id": "nTzTVM0QMNMc"
      },
      "source": [
        "Data.shape # เช็คขนาดของข้อมูล"
      ],
      "execution_count": null,
      "outputs": []
    },
    {
      "cell_type": "code",
      "metadata": {
        "id": "H0FRFtwjMUpx"
      },
      "source": [
        "corr = np.corrcoef(Data.to_numpy().T)"
      ],
      "execution_count": null,
      "outputs": []
    },
    {
      "cell_type": "code",
      "metadata": {
        "id": "Gn2ohfU7MyQ4"
      },
      "source": [
        "corr.shape # เช็คขนาดของ corrcoef ของ Data"
      ],
      "execution_count": null,
      "outputs": []
    },
    {
      "cell_type": "code",
      "metadata": {
        "id": "GG1V-sN6MyKe"
      },
      "source": [
        "#ทำการวนลูปหาค่า correlation ที่ซ้ำกัน\n",
        "for i in range(corr.shape[0]):\n",
        "    for j in range(corr.shape[1]):\n",
        "        if (i !=j) and (corr[i,j] == 1.):\n",
        "            print(f'row = {i} column = {j} corrcoef = {corr[i,j]}')"
      ],
      "execution_count": null,
      "outputs": []
    },
    {
      "cell_type": "markdown",
      "metadata": {
        "id": "gL3AXGBIND6L"
      },
      "source": [
        "จากการวนลูป พบว่า correlation ไม่มีตัวซ้ำกัน จึงไม่จำเป็นตั้งตัดข้อมูลใดออก ดังนั้นข้อมูล Data จึงนำไปใช้ได้เลย\n",
        "\n",
        "ทำการหาจำนวนกลุ่มที่เหมาะสมต่อการแบ่งกลุ่ม หรือทำการหาค่า k ที่เหมาะสมของ data"
      ]
    },
    {
      "cell_type": "markdown",
      "metadata": {
        "id": "HLYGcXYpYnm4"
      },
      "source": [
        "#2. ทำ clustering แล้วทำ visualize ข้อมูลแบบ 2 มิติ"
      ]
    },
    {
      "cell_type": "code",
      "metadata": {
        "id": "jUARadkFEuyJ"
      },
      "source": [
        "# Import \n",
        "from sklearn.cluster import KMeans"
      ],
      "execution_count": null,
      "outputs": []
    },
    {
      "cell_type": "markdown",
      "metadata": {
        "id": "A1zRBZCWRGkx"
      },
      "source": [
        "Import\n",
        "* import function ที่ต้องการใช้ในการทำ K-mean จาก sklearn.cluster\n",
        "\n"
      ]
    },
    {
      "cell_type": "code",
      "metadata": {
        "id": "qjCy0bwIY6YP"
      },
      "source": [
        "# Defind \n",
        "kmeans = KMeans(n_clusters=3,random_state=2021)"
      ],
      "execution_count": null,
      "outputs": []
    },
    {
      "cell_type": "markdown",
      "metadata": {
        "id": "4Emg1IipRJTA"
      },
      "source": [
        "Defind\n",
        "*  กำหนดค่า k ที่เราต้องการ (ถ้ามีค่า defult ไม่จำเป็นต้องกำหนดค่า k ก็ได้)\n",
        "*   random_state=2021 คือกำหนดให้เริ่มสุ่มที่จุดเดียวกัน จะได้มีการจัดกลุ่มที่เหมือนกัน\n",
        "\n",
        "\n"
      ]
    },
    {
      "cell_type": "code",
      "metadata": {
        "id": "Gje9fXElY6Uw"
      },
      "source": [
        "# Fit-tranform\n",
        "kmeans.fit(Data)"
      ],
      "execution_count": null,
      "outputs": []
    },
    {
      "cell_type": "markdown",
      "metadata": {
        "id": "66T0nN9nRobc"
      },
      "source": [
        "Fit-tranform\n",
        "* คำนวณจุด Cluster center ของข้อมูล Data ด้วยวิธี K-means clustering"
      ]
    },
    {
      "cell_type": "code",
      "metadata": {
        "id": "TpDYdD8gY6SX"
      },
      "source": [
        "#แสดงจุดที่คำนวณได้\n",
        "kmeans.cluster_centers_"
      ],
      "execution_count": null,
      "outputs": []
    },
    {
      "cell_type": "code",
      "metadata": {
        "id": "Pxut8invY_pn"
      },
      "source": [
        "#ทดสอบการจัดกลุ่มของ Data\n",
        "y = kmeans.predict(Data)\n",
        "y"
      ],
      "execution_count": null,
      "outputs": []
    },
    {
      "cell_type": "markdown",
      "metadata": {
        "id": "N5OcoqrKZFV3"
      },
      "source": [
        "ทำ PCA ลด Dimention"
      ]
    },
    {
      "cell_type": "code",
      "metadata": {
        "id": "l_qpP9GxY_nK"
      },
      "source": [
        "from sklearn.decomposition import PCA"
      ],
      "execution_count": null,
      "outputs": []
    },
    {
      "cell_type": "code",
      "metadata": {
        "id": "ZLaIEEQjY_kw"
      },
      "source": [
        "pca = PCA(n_components=2)"
      ],
      "execution_count": null,
      "outputs": []
    },
    {
      "cell_type": "code",
      "metadata": {
        "id": "KtMMIFZvZJcD"
      },
      "source": [
        "new_pca = pca.fit_transform(Data)"
      ],
      "execution_count": null,
      "outputs": []
    },
    {
      "cell_type": "markdown",
      "metadata": {
        "id": "KZQTeYBJcXx6"
      },
      "source": [
        "plot กราฟเพื่อดูการกระจายกลุ่ม"
      ]
    },
    {
      "cell_type": "code",
      "metadata": {
        "id": "ae5YBQO_cNUL"
      },
      "source": [
        "import matplotlib.pyplot as plt"
      ],
      "execution_count": null,
      "outputs": []
    },
    {
      "cell_type": "code",
      "metadata": {
        "id": "mtC0-RQqbmAL"
      },
      "source": [
        "kmeans = KMeans(random_state=2021)\n",
        "kmeans.fit(Data)\n",
        "y = kmeans.predict(Data)\n",
        "plt.scatter(new_pca[:,0],new_pca[:,1],c=y)"
      ],
      "execution_count": null,
      "outputs": []
    },
    {
      "cell_type": "markdown",
      "metadata": {
        "id": "MMUxyY2LZTnG"
      },
      "source": [
        "หาค่า k ที่เหมาะสมของ data ด้วยวิธี \" The elbow method \""
      ]
    },
    {
      "cell_type": "code",
      "metadata": {
        "id": "q9VgQ0KcZJXG"
      },
      "source": [
        "#คำนวนค่า SSE ของ data\n",
        "kmeans.inertia_ "
      ],
      "execution_count": null,
      "outputs": []
    },
    {
      "cell_type": "code",
      "metadata": {
        "id": "Nenew8AcZQRg"
      },
      "source": [
        "SSE = list()\n",
        "for k in [1,2,3,4,5,6,7,8]:\n",
        "    kmeans = KMeans(n_clusters = k , random_state = 2021)\n",
        "    XX = kmeans.fit(Data)\n",
        "    SSE.append(kmeans.inertia_)"
      ],
      "execution_count": null,
      "outputs": []
    },
    {
      "cell_type": "code",
      "metadata": {
        "id": "LHNSOWQ_ZQO6"
      },
      "source": [
        "SSE"
      ],
      "execution_count": null,
      "outputs": []
    },
    {
      "cell_type": "code",
      "metadata": {
        "id": "yikzPVRmZQKm"
      },
      "source": [
        "#นำค่า SSE ที่ได้มา plot กราฟเพื่อดูว่ามีกี่กลุ่ม\n",
        "plt.plot([1,2,3,4,5,6,7,8],SSE,'o-m')\n",
        "plt.xlabel('k')\n",
        "plt.ylabel('SSE');"
      ],
      "execution_count": null,
      "outputs": []
    },
    {
      "cell_type": "markdown",
      "metadata": {
        "id": "rbj9qQzTZa9G"
      },
      "source": [
        "จากกราฟจะเห็นได้ว่า k มี 3 กลุ่ม ดูจากจุดที่ k ที่\n",
        "ใช้วิธีการหาค่า k ด้วยวิธี \" The silhouette coefficient \""
      ]
    },
    {
      "cell_type": "code",
      "metadata": {
        "id": "KZaXVz96ZQIY"
      },
      "source": [
        "#import function metrics มาใช้\n",
        "from sklearn import metrics"
      ],
      "execution_count": null,
      "outputs": []
    },
    {
      "cell_type": "code",
      "metadata": {
        "id": "8Ou5nk7TZQF0"
      },
      "source": [
        "SilH = list()\n",
        "for k in [2,3,4,5,6,7,8]:\n",
        "    kmeans = KMeans(n_clusters = k , random_state = 2021)\n",
        "    kmeans.fit(Data)\n",
        "    score = metrics.silhouette_score(Data,kmeans.labels_)\n",
        "    SilH.append(score)"
      ],
      "execution_count": null,
      "outputs": []
    },
    {
      "cell_type": "code",
      "metadata": {
        "id": "6YafXW8eZfll"
      },
      "source": [
        "plt.plot([2,3,4,5,6,7,8],SilH,'o-m')\n",
        "plt.xlabel('k')\n",
        "plt.ylabel('SilH');"
      ],
      "execution_count": null,
      "outputs": []
    },
    {
      "cell_type": "markdown",
      "metadata": {
        "id": "0f-CyCDleOHY"
      },
      "source": [
        "จากกราฟจะเห็นได้ว่า k มี 3 กลุ่ม ดูได้จากจุดที่มีระยะห่างแตกต่างกันใน 3 ช่วงที่ k เท่ากับ 2 , 3 และ 6\n",
        "\n",
        "ลองนำค่า k ที่ได้มาแบ่งกลุ่มอีกครั้ง\n",
        "\n"
      ]
    },
    {
      "cell_type": "code",
      "metadata": {
        "id": "RKdIVX9ueHZ-"
      },
      "source": [
        "# กำหนดขนาดกราฟ เพื่อดูข้อมูลได้ชัดเจนมากขึ้น\n",
        "plt.rcParams['figure.figsize']=[15,20] "
      ],
      "execution_count": null,
      "outputs": []
    },
    {
      "cell_type": "code",
      "metadata": {
        "id": "VLCJ88GXc4nF"
      },
      "source": [
        "kmeans = KMeans(n_clusters = 3,random_state=2021)\n",
        "kmeans.fit(Data)\n",
        "y = kmeans.predict(Data)\n",
        "plt.scatter(new_pca[:,0],new_pca[:,1],c=y,alpha=0.7)\n",
        "plt.title('DataGenerator') \n",
        "plt.xlabel('X') \n",
        "plt.ylabel('Y');"
      ],
      "execution_count": null,
      "outputs": []
    },
    {
      "cell_type": "markdown",
      "metadata": {
        "id": "MTRmsjA2eYwQ"
      },
      "source": [
        "กราฟ -> เมื่อจัดกลุ่ม k ให้เท่ากับ 4 กลุ่มแล้ว มีข้อมูลบางจำนวนที่ทับซ้อนกัน และมีข้อมูลเป็นจำนวนมาก"
      ]
    },
    {
      "cell_type": "markdown",
      "metadata": {
        "id": "NU6vX2i5fJZY"
      },
      "source": [
        "# 3.ลด Dimension ของข้อมูลเหลือ 2 มิติ แล้วทำ clustering แล้ว visualize ข้อมูลแบบ 2 มิติ"
      ]
    },
    {
      "cell_type": "markdown",
      "metadata": {
        "id": "_KU3MfWTSuhx"
      },
      "source": [
        "### MDS"
      ]
    },
    {
      "cell_type": "code",
      "metadata": {
        "id": "g62si7K3c5Nj"
      },
      "source": [
        "from sklearn.manifold import MDS"
      ],
      "execution_count": null,
      "outputs": []
    },
    {
      "cell_type": "code",
      "metadata": {
        "id": "Tnw9v6d3c5LS"
      },
      "source": [
        "mds = MDS(n_components=2)\n",
        "# กำหนดว่าเราจะใช้ components ของ mds เป็น 2"
      ],
      "execution_count": null,
      "outputs": []
    },
    {
      "cell_type": "code",
      "metadata": {
        "id": "0hkIzBiZij6Z"
      },
      "source": [
        "New_mds = mds.fit_transform(Data)\n",
        "# ทำการคำนวณข้อมูล คำนวณระยะห่างระหว่างจุด"
      ],
      "execution_count": null,
      "outputs": []
    },
    {
      "cell_type": "markdown",
      "metadata": {
        "id": "VtZmI3ccSxCr"
      },
      "source": [
        "### K-means"
      ]
    },
    {
      "cell_type": "code",
      "metadata": {
        "id": "oU5OfVk3c5Fb"
      },
      "source": [
        "kmeans2 = KMeans(n_clusters=4,random_state=2021)  # กำหนด k = 4 ตามค่า k ที่เหมาะสม\n",
        "kmeans2.fit(Data)\n",
        "g = kmeans2.predict(Data)"
      ],
      "execution_count": 28,
      "outputs": []
    },
    {
      "cell_type": "markdown",
      "metadata": {
        "id": "3_YU2nUATWqf"
      },
      "source": [
        "กำหนดกลุ่ม k = 4 ตามการหาค่า k ที่เหมาะสมข้างต้น \n"
      ]
    },
    {
      "cell_type": "code",
      "metadata": {
        "id": "ZlERPW-fc5C6",
        "outputId": "dfd1f4a1-c09d-4701-b873-53eb5cdb6d88",
        "colab": {
          "base_uri": "https://localhost:8080/",
          "height": 225
        }
      },
      "source": [
        "plt.scatter(New_mds[:,0],New_mds[:,1],c=g,alpha=0.7)\n",
        "plt.title('DataGenerator') \n",
        "plt.xlabel('X') \n",
        "plt.ylabel('Y');"
      ],
      "execution_count": 29,
      "outputs": [
        {
          "output_type": "error",
          "ename": "NameError",
          "evalue": "ignored",
          "traceback": [
            "\u001b[0;31m---------------------------------------------------------------------------\u001b[0m",
            "\u001b[0;31mNameError\u001b[0m                                 Traceback (most recent call last)",
            "\u001b[0;32m<ipython-input-29-0fb95cd40cb5>\u001b[0m in \u001b[0;36m<module>\u001b[0;34m()\u001b[0m\n\u001b[0;32m----> 1\u001b[0;31m \u001b[0mplt\u001b[0m\u001b[0;34m.\u001b[0m\u001b[0mscatter\u001b[0m\u001b[0;34m(\u001b[0m\u001b[0mnew_mds\u001b[0m\u001b[0;34m[\u001b[0m\u001b[0;34m:\u001b[0m\u001b[0;34m,\u001b[0m\u001b[0;36m0\u001b[0m\u001b[0;34m]\u001b[0m\u001b[0;34m,\u001b[0m\u001b[0mnew_mds\u001b[0m\u001b[0;34m[\u001b[0m\u001b[0;34m:\u001b[0m\u001b[0;34m,\u001b[0m\u001b[0;36m1\u001b[0m\u001b[0;34m]\u001b[0m\u001b[0;34m,\u001b[0m\u001b[0mc\u001b[0m\u001b[0;34m=\u001b[0m\u001b[0mg\u001b[0m\u001b[0;34m,\u001b[0m\u001b[0malpha\u001b[0m\u001b[0;34m=\u001b[0m\u001b[0;36m0.7\u001b[0m\u001b[0;34m)\u001b[0m\u001b[0;34m\u001b[0m\u001b[0;34m\u001b[0m\u001b[0m\n\u001b[0m\u001b[1;32m      2\u001b[0m \u001b[0mplt\u001b[0m\u001b[0;34m.\u001b[0m\u001b[0mtitle\u001b[0m\u001b[0;34m(\u001b[0m\u001b[0;34m'DataGenerator'\u001b[0m\u001b[0;34m)\u001b[0m\u001b[0;34m\u001b[0m\u001b[0;34m\u001b[0m\u001b[0m\n\u001b[1;32m      3\u001b[0m \u001b[0mplt\u001b[0m\u001b[0;34m.\u001b[0m\u001b[0mxlabel\u001b[0m\u001b[0;34m(\u001b[0m\u001b[0;34m'X'\u001b[0m\u001b[0;34m)\u001b[0m\u001b[0;34m\u001b[0m\u001b[0;34m\u001b[0m\u001b[0m\n\u001b[1;32m      4\u001b[0m \u001b[0mplt\u001b[0m\u001b[0;34m.\u001b[0m\u001b[0mylabel\u001b[0m\u001b[0;34m(\u001b[0m\u001b[0;34m'Y'\u001b[0m\u001b[0;34m)\u001b[0m\u001b[0;34m;\u001b[0m\u001b[0;34m\u001b[0m\u001b[0;34m\u001b[0m\u001b[0m\n",
            "\u001b[0;31mNameError\u001b[0m: name 'new_mds' is not defined"
          ]
        }
      ]
    },
    {
      "cell_type": "markdown",
      "metadata": {
        "id": "gzKmjCEhfxFp"
      },
      "source": [
        "# 4.เปรียบเทียบความแตกต่างของผลข้อ 2 กับ ข้อ 3"
      ]
    },
    {
      "cell_type": "code",
      "metadata": {
        "id": "63Wv-JuSfnqb"
      },
      "source": [
        "# ข้อ 2\n",
        "plt.scatter(new_pca[:,0],new_pca[:,1],c=y,alpha=0.7)\n",
        "plt.title('DataGenerator') \n",
        "plt.xlabel('X') \n",
        "plt.ylabel('Y');"
      ],
      "execution_count": null,
      "outputs": []
    },
    {
      "cell_type": "code",
      "metadata": {
        "id": "6rRSheG0iakt"
      },
      "source": [
        "# ข้อ 3\n",
        "plt.scatter(New_mds[:,0],New_mds[:,1],c=g,alpha=0.7)\n",
        "plt.title('DataGenerator') \n",
        "plt.xlabel('X') \n",
        "plt.ylabel('Y');"
      ],
      "execution_count": null,
      "outputs": []
    },
    {
      "cell_type": "markdown",
      "metadata": {
        "id": "j5bLZMmNT1fW"
      },
      "source": [
        "# สรุป\n",
        "เมื่อเปรียบเทียบกราฟข้อ 2 และ 3 พบว่าการกระจายของข้อมูลมีความแตกต่างกัน\n",
        "\n",
        "* ข้อ 2 -> การจัดกลุ่มโดยการ clustering ก่อนที่จะทำการลด dimension ด้วยวิธี PCA ซึ่งเป็นการลด dimension โดยที่ทุกจุดของข้อมูลจะอยู่ที่เดิม\n",
        "\n",
        "* ข้อ 3 -> ทำการลด dimension ของข้อมูลก่อน แล้วนำข้อมูลที่ลด dimension แล้วไปทำการ clustering ซึ่งทำการลด dimension ด้วยวิธี MDS ซึ่งลด dimension โดยที่ทุกจุดของข้อมูลจะยึดจุดตั้งต้นเป็นหลัก"
      ]
    }
  ]
}