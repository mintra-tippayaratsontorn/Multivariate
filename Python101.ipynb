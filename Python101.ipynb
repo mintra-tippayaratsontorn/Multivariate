{
  "nbformat": 4,
  "nbformat_minor": 0,
  "metadata": {
    "colab": {
      "name": "Python101.ipynb",
      "provenance": [],
      "collapsed_sections": [],
      "authorship_tag": "ABX9TyOupl+YM72Urp8MCU10JJv6",
      "include_colab_link": true
    },
    "kernelspec": {
      "name": "python3",
      "display_name": "Python 3"
    }
  },
  "cells": [
    {
      "cell_type": "markdown",
      "metadata": {
        "id": "view-in-github",
        "colab_type": "text"
      },
      "source": [
        "<a href=\"https://colab.research.google.com/github/mintra-tippayaratsontorn/Multivariate/blob/main/Python101.ipynb\" target=\"_parent\"><img src=\"https://colab.research.google.com/assets/colab-badge.svg\" alt=\"Open In Colab\"/></a>"
      ]
    },
    {
      "cell_type": "markdown",
      "metadata": {
        "id": "e7mw966GLixT"
      },
      "source": [
        "ตัวแปร variable"
      ]
    },
    {
      "cell_type": "markdown",
      "metadata": {
        "id": "snT2i-dYOEm2"
      },
      "source": [
        "hastag หรือ sharp (#) คือ การคอมเมนต์"
      ]
    },
    {
      "cell_type": "markdown",
      "metadata": {
        "id": "MX58A04RL7gc"
      },
      "source": [
        "หลักการตั้งชื่อตัวแปรเบื้องต้น\r\n",
        "1. ตั้งให้สื่อ\r\n",
        "2. ภาษาอังกฤษ\r\n",
        "3. ใช้ตัวเลขได้แต่ห้ามขึ้นด้วยตัวเลข\r\n",
        "4. ห้ามเว้นวรรค\r\n",
        "5. ตัวเล็กกับตัวใหญ่ไม่เหมือนกัน"
      ]
    },
    {
      "cell_type": "markdown",
      "metadata": {
        "id": "eOVH1x61Mp-j"
      },
      "source": [
        "มี output 2 mode : ออกหน้าจอ กับ เข้าไปเก็บในตัวแปร"
      ]
    },
    {
      "cell_type": "code",
      "metadata": {
        "colab": {
          "base_uri": "https://localhost:8080/"
        },
        "id": "PgHiTsNRMjlh",
        "outputId": "93839027-6c91-4c63-9cb3-ab76284954a0"
      },
      "source": [
        "3.14159  # อันนี้ output ที่ออกหน้าจอ"
      ],
      "execution_count": null,
      "outputs": [
        {
          "output_type": "execute_result",
          "data": {
            "text/plain": [
              "3.14159"
            ]
          },
          "metadata": {
            "tags": []
          },
          "execution_count": 1
        }
      ]
    },
    {
      "cell_type": "code",
      "metadata": {
        "id": "ZeB8K_gDJ-5p"
      },
      "source": [
        "Pi = 3.14159  # อันนี้ output ที่เข้าไปอยู่ในตัวแปร"
      ],
      "execution_count": null,
      "outputs": []
    },
    {
      "cell_type": "code",
      "metadata": {
        "colab": {
          "base_uri": "https://localhost:8080/"
        },
        "id": "GfIXYHhaMVGa",
        "outputId": "05a4ba41-5909-468c-f7d0-48cdc029c058"
      },
      "source": [
        "Pi"
      ],
      "execution_count": null,
      "outputs": [
        {
          "output_type": "execute_result",
          "data": {
            "text/plain": [
              "3.14159"
            ]
          },
          "metadata": {
            "tags": []
          },
          "execution_count": 3
        }
      ]
    },
    {
      "cell_type": "code",
      "metadata": {
        "colab": {
          "base_uri": "https://localhost:8080/"
        },
        "id": "klSdvxCwNLN5",
        "outputId": "c69f8556-dfea-4900-c1ec-3f61110a6bd3"
      },
      "source": [
        "a = 1234567\r\n",
        "print(a)"
      ],
      "execution_count": null,
      "outputs": [
        {
          "output_type": "stream",
          "text": [
            "1234567\n"
          ],
          "name": "stdout"
        }
      ]
    },
    {
      "cell_type": "markdown",
      "metadata": {
        "id": "yNKZdPALNi5e"
      },
      "source": [
        "# ชนิดของตัวแปร 3 ชนิด"
      ]
    },
    {
      "cell_type": "markdown",
      "metadata": {
        "id": "Af95UOVgOuDO"
      },
      "source": [
        "### จำนวนเต็ม (integer,int)"
      ]
    },
    {
      "cell_type": "code",
      "metadata": {
        "colab": {
          "base_uri": "https://localhost:8080/"
        },
        "id": "aLSwESoPO5He",
        "outputId": "3bd50ade-eebf-4fc8-a0e5-a97b4c22cbe8"
      },
      "source": [
        "aaa = 1092\r\n",
        "print(aaa)"
      ],
      "execution_count": null,
      "outputs": [
        {
          "output_type": "stream",
          "text": [
            "1092\n"
          ],
          "name": "stdout"
        }
      ]
    },
    {
      "cell_type": "markdown",
      "metadata": {
        "id": "498GNG6gPDr6"
      },
      "source": [
        "### จำนวนจริง(float)"
      ]
    },
    {
      "cell_type": "code",
      "metadata": {
        "colab": {
          "base_uri": "https://localhost:8080/"
        },
        "id": "NUAaiZSFPCgE",
        "outputId": "0cfb0d3f-5f65-4cd6-9412-51abc1ab2fef"
      },
      "source": [
        "bbb = 11.\r\n",
        "print(bbb)"
      ],
      "execution_count": null,
      "outputs": [
        {
          "output_type": "stream",
          "text": [
            "11.0\n"
          ],
          "name": "stdout"
        }
      ]
    },
    {
      "cell_type": "markdown",
      "metadata": {
        "id": "7uDCxEomPX6P"
      },
      "source": [
        "### ตัวอักษร-ข้อความ (character และ text , sring)"
      ]
    },
    {
      "cell_type": "code",
      "metadata": {
        "colab": {
          "base_uri": "https://localhost:8080/"
        },
        "id": "1rkETOVwPUmR",
        "outputId": "e186e09a-86b8-491b-ac21-19d7d2ae7351"
      },
      "source": [
        "ccc = '123456'  # เราใช้ single quote(') หรือ doubel quote (\")ล้อมรอบตัวหนังสือ เพื่อระบุว่าเป็น character-string\r\n",
        "print(ccc)"
      ],
      "execution_count": null,
      "outputs": [
        {
          "output_type": "stream",
          "text": [
            "123456\n"
          ],
          "name": "stdout"
        }
      ]
    },
    {
      "cell_type": "code",
      "metadata": {
        "colab": {
          "base_uri": "https://localhost:8080/"
        },
        "id": "xFuyB7OHQRSW",
        "outputId": "647b2542-5c21-49f0-f3e4-67d38fdf3d32"
      },
      "source": [
        "aaa + bbb  # float + int = float"
      ],
      "execution_count": null,
      "outputs": [
        {
          "output_type": "execute_result",
          "data": {
            "text/plain": [
              "1103.0"
            ]
          },
          "metadata": {
            "tags": []
          },
          "execution_count": 8
        }
      ]
    },
    {
      "cell_type": "code",
      "metadata": {
        "colab": {
          "base_uri": "https://localhost:8080/",
          "height": 163
        },
        "id": "vQ3lD3WOQaLM",
        "outputId": "6585c3ba-fd75-4d2f-f9a6-98df4eb2cc35"
      },
      "source": [
        "bbb + ccc"
      ],
      "execution_count": null,
      "outputs": [
        {
          "output_type": "error",
          "ename": "TypeError",
          "evalue": "ignored",
          "traceback": [
            "\u001b[0;31m---------------------------------------------------------------------------\u001b[0m",
            "\u001b[0;31mTypeError\u001b[0m                                 Traceback (most recent call last)",
            "\u001b[0;32m<ipython-input-9-a3916046ad1c>\u001b[0m in \u001b[0;36m<module>\u001b[0;34m()\u001b[0m\n\u001b[0;32m----> 1\u001b[0;31m \u001b[0mbbb\u001b[0m \u001b[0;34m+\u001b[0m \u001b[0mccc\u001b[0m\u001b[0;34m\u001b[0m\u001b[0;34m\u001b[0m\u001b[0m\n\u001b[0m",
            "\u001b[0;31mTypeError\u001b[0m: unsupported operand type(s) for +: 'float' and 'str'"
          ]
        }
      ]
    },
    {
      "cell_type": "code",
      "metadata": {
        "colab": {
          "base_uri": "https://localhost:8080/"
        },
        "id": "kQ8cK-RwQvwV",
        "outputId": "6a8988d3-9bd1-4d34-818b-18fdf8c7ab52"
      },
      "source": [
        "ddd = 'มินตรา'\r\n",
        "print(ddd)"
      ],
      "execution_count": null,
      "outputs": [
        {
          "output_type": "stream",
          "text": [
            "มินตรา\n"
          ],
          "name": "stdout"
        }
      ]
    },
    {
      "cell_type": "markdown",
      "metadata": {
        "id": "2EyCUzWIQ81t"
      },
      "source": [
        "#การเปลี่ยนชนิดของตัวแปร variable casting"
      ]
    },
    {
      "cell_type": "code",
      "metadata": {
        "colab": {
          "base_uri": "https://localhost:8080/"
        },
        "id": "8dDeQIpJQ7YJ",
        "outputId": "b87bd545-220d-4e70-aa47-09b8e86ebfb9"
      },
      "source": [
        "aaa + int(ccc)"
      ],
      "execution_count": null,
      "outputs": [
        {
          "output_type": "execute_result",
          "data": {
            "text/plain": [
              "124548"
            ]
          },
          "metadata": {
            "tags": []
          },
          "execution_count": 11
        }
      ]
    },
    {
      "cell_type": "code",
      "metadata": {
        "colab": {
          "base_uri": "https://localhost:8080/"
        },
        "id": "u8pNQgVKRi04",
        "outputId": "b35ec649-05ad-4b53-ac50-9410462638be"
      },
      "source": [
        "aaa + float(ccc)"
      ],
      "execution_count": null,
      "outputs": [
        {
          "output_type": "execute_result",
          "data": {
            "text/plain": [
              "124548.0"
            ]
          },
          "metadata": {
            "tags": []
          },
          "execution_count": 12
        }
      ]
    },
    {
      "cell_type": "code",
      "metadata": {
        "colab": {
          "base_uri": "https://localhost:8080/",
          "height": 35
        },
        "id": "zJsDt5dQRtI6",
        "outputId": "f30a9b79-ab6e-4b59-c4fe-de9d79b369e2"
      },
      "source": [
        "str(aaa)"
      ],
      "execution_count": null,
      "outputs": [
        {
          "output_type": "execute_result",
          "data": {
            "application/vnd.google.colaboratory.intrinsic+json": {
              "type": "string"
            },
            "text/plain": [
              "'1092'"
            ]
          },
          "metadata": {
            "tags": []
          },
          "execution_count": 13
        }
      ]
    },
    {
      "cell_type": "code",
      "metadata": {
        "colab": {
          "base_uri": "https://localhost:8080/"
        },
        "id": "iJIir1-MRwLj",
        "outputId": "4d631dc2-2660-4048-faa4-e4b956a1384f"
      },
      "source": [
        "print(str(aaa))"
      ],
      "execution_count": null,
      "outputs": [
        {
          "output_type": "stream",
          "text": [
            "1092\n"
          ],
          "name": "stdout"
        }
      ]
    },
    {
      "cell_type": "markdown",
      "metadata": {
        "id": "Fs0EKSHNSJus"
      },
      "source": [
        "#การดำเนินงาน Operation (Operators + , - , * , / , %)"
      ]
    },
    {
      "cell_type": "code",
      "metadata": {
        "colab": {
          "base_uri": "https://localhost:8080/",
          "height": 163
        },
        "id": "Bwp-W4OmRzb6",
        "outputId": "2f5b2ab7-a45d-4a06-d742-b00211503dee"
      },
      "source": [
        "a + b  # เรายังไม่มีตัวแปร b"
      ],
      "execution_count": null,
      "outputs": [
        {
          "output_type": "error",
          "ename": "NameError",
          "evalue": "ignored",
          "traceback": [
            "\u001b[0;31m---------------------------------------------------------------------------\u001b[0m",
            "\u001b[0;31mNameError\u001b[0m                                 Traceback (most recent call last)",
            "\u001b[0;32m<ipython-input-15-402fd88415b1>\u001b[0m in \u001b[0;36m<module>\u001b[0;34m()\u001b[0m\n\u001b[0;32m----> 1\u001b[0;31m \u001b[0ma\u001b[0m \u001b[0;34m+\u001b[0m \u001b[0mb\u001b[0m  \u001b[0;31m# เรายังไม่มีตัวแปร b\u001b[0m\u001b[0;34m\u001b[0m\u001b[0;34m\u001b[0m\u001b[0m\n\u001b[0m",
            "\u001b[0;31mNameError\u001b[0m: name 'b' is not defined"
          ]
        }
      ]
    },
    {
      "cell_type": "code",
      "metadata": {
        "colab": {
          "base_uri": "https://localhost:8080/"
        },
        "id": "cwFzhhlzSe10",
        "outputId": "be4881f6-7065-4017-fbdd-579b94f58cf4"
      },
      "source": [
        "aaa + bbb  # มีข้อมูลแล้ว สามารถคำนวณได้"
      ],
      "execution_count": null,
      "outputs": [
        {
          "output_type": "execute_result",
          "data": {
            "text/plain": [
              "1103.0"
            ]
          },
          "metadata": {
            "tags": []
          },
          "execution_count": 16
        }
      ]
    },
    {
      "cell_type": "code",
      "metadata": {
        "colab": {
          "base_uri": "https://localhost:8080/"
        },
        "id": "zQ_uqwOpfExG",
        "outputId": "6a92bf4e-de3e-48f5-8cf4-cea5f0cbe3e5"
      },
      "source": [
        "aaa - bbb  # ลบ"
      ],
      "execution_count": null,
      "outputs": [
        {
          "output_type": "execute_result",
          "data": {
            "text/plain": [
              "1081.0"
            ]
          },
          "metadata": {
            "tags": []
          },
          "execution_count": 17
        }
      ]
    },
    {
      "cell_type": "code",
      "metadata": {
        "colab": {
          "base_uri": "https://localhost:8080/"
        },
        "id": "ETXMe77NjSTL",
        "outputId": "47780848-dace-455b-ad2d-f63f9782860a"
      },
      "source": [
        "aaa * bbb  # คูณ"
      ],
      "execution_count": null,
      "outputs": [
        {
          "output_type": "execute_result",
          "data": {
            "text/plain": [
              "12012.0"
            ]
          },
          "metadata": {
            "tags": []
          },
          "execution_count": 18
        }
      ]
    },
    {
      "cell_type": "code",
      "metadata": {
        "colab": {
          "base_uri": "https://localhost:8080/"
        },
        "id": "dlxcrGrHjZOr",
        "outputId": "dbeeb66c-5436-4984-8467-e50356d43242"
      },
      "source": [
        "aaa / bbb  # หาร"
      ],
      "execution_count": null,
      "outputs": [
        {
          "output_type": "execute_result",
          "data": {
            "text/plain": [
              "99.27272727272727"
            ]
          },
          "metadata": {
            "tags": []
          },
          "execution_count": 19
        }
      ]
    },
    {
      "cell_type": "code",
      "metadata": {
        "id": "2-O8AaTqjeIA",
        "colab": {
          "base_uri": "https://localhost:8080/"
        },
        "outputId": "c4da635b-9785-4397-e4fd-dcd6e63c244e"
      },
      "source": [
        "aaa % bbb  # หารเอาเศษ"
      ],
      "execution_count": null,
      "outputs": [
        {
          "output_type": "execute_result",
          "data": {
            "text/plain": [
              "3.0"
            ]
          },
          "metadata": {
            "tags": []
          },
          "execution_count": 20
        }
      ]
    },
    {
      "cell_type": "code",
      "metadata": {
        "colab": {
          "base_uri": "https://localhost:8080/"
        },
        "id": "L5PJubinSyqM",
        "outputId": "cfb17ad8-f667-4b41-ac57-4a850f9e0b31"
      },
      "source": [
        "ab = aaa*bbb  # สร้างสมการ\r\n",
        "print(ab)"
      ],
      "execution_count": null,
      "outputs": [
        {
          "output_type": "stream",
          "text": [
            "12012.0\n"
          ],
          "name": "stdout"
        }
      ]
    },
    {
      "cell_type": "code",
      "metadata": {
        "colab": {
          "base_uri": "https://localhost:8080/"
        },
        "id": "Nj6epmuIS75r",
        "outputId": "da69f9c9-967b-465d-dfb4-3720039ff910"
      },
      "source": [
        "ab + int(ccc)"
      ],
      "execution_count": null,
      "outputs": [
        {
          "output_type": "execute_result",
          "data": {
            "text/plain": [
              "135468.0"
            ]
          },
          "metadata": {
            "tags": []
          },
          "execution_count": 22
        }
      ]
    },
    {
      "cell_type": "markdown",
      "metadata": {
        "id": "U5guQ69bTXkZ"
      },
      "source": [
        "###% คือ modulo (การหารเอาเศษ)"
      ]
    },
    {
      "cell_type": "code",
      "metadata": {
        "colab": {
          "base_uri": "https://localhost:8080/"
        },
        "id": "-CGKJoa_TGkr",
        "outputId": "ebeee0c7-66a5-4621-e570-8f80e54a4134"
      },
      "source": [
        "5%3"
      ],
      "execution_count": null,
      "outputs": [
        {
          "output_type": "execute_result",
          "data": {
            "text/plain": [
              "2"
            ]
          },
          "metadata": {
            "tags": []
          },
          "execution_count": 23
        }
      ]
    },
    {
      "cell_type": "code",
      "metadata": {
        "colab": {
          "base_uri": "https://localhost:8080/"
        },
        "id": "bQCVMGgTT1e5",
        "outputId": "170b5687-3865-4b10-b109-9b0ae842e8d5"
      },
      "source": [
        "7%3"
      ],
      "execution_count": null,
      "outputs": [
        {
          "output_type": "execute_result",
          "data": {
            "text/plain": [
              "1"
            ]
          },
          "metadata": {
            "tags": []
          },
          "execution_count": 24
        }
      ]
    },
    {
      "cell_type": "markdown",
      "metadata": {
        "id": "fLg9VcirUGyC"
      },
      "source": [
        "#คำสั่ง print พิเศษ (การ format string)"
      ]
    },
    {
      "cell_type": "code",
      "metadata": {
        "colab": {
          "base_uri": "https://localhost:8080/"
        },
        "id": "LougvyjnT3sb",
        "outputId": "989c97d0-aaa0-4137-f8dd-a1b960f6a0fb"
      },
      "source": [
        "print('ตัวแปร')  # สิ่งที่อยู่ในวงเล็บ คือ ตัวแปร และ string"
      ],
      "execution_count": null,
      "outputs": [
        {
          "output_type": "stream",
          "text": [
            "ตัวแปร\n"
          ],
          "name": "stdout"
        }
      ]
    },
    {
      "cell_type": "code",
      "metadata": {
        "colab": {
          "base_uri": "https://localhost:8080/"
        },
        "id": "WTCyAHh9UhK4",
        "outputId": "ac2f4ac0-8e67-40ee-d170-4fa7ccb74716"
      },
      "source": [
        "print(f'% คือ การหารเอาเศษ เช่น 7%3 = {7%3}')  # เพิ่ม f หน้า 'string' และใช้ {} ใส่ code"
      ],
      "execution_count": null,
      "outputs": [
        {
          "output_type": "stream",
          "text": [
            "% คือ การหารเอาเศษ เช่น 7%3 = 1\n"
          ],
          "name": "stdout"
        }
      ]
    },
    {
      "cell_type": "code",
      "metadata": {
        "colab": {
          "base_uri": "https://localhost:8080/"
        },
        "id": "Ytj7ulrdU7Cs",
        "outputId": "b46013ea-2c99-4b9f-8c02-05c493210d55"
      },
      "source": [
        "print(f'% คือ การหารเอาเศษ เช่น 7%3 = {7%3}) \\\r\n",
        "แต่\\n/ คือ การหารปกติ เช่น 7/3 = {7/3} \\\r\n",
        "และ \\n// คือการหารเอาส่วน เช่น 7//3 = {7//3} \\\r\n",
        "หรือ\\n ใช้ int() เพื่อหารเอาส่วน เช่น int(7/3) = {int(7/3)}')  # \\n คือการขึ้นบรรทัดใหม่ \\ ใช้ในการตัด code แต่ตอนแสดงผลจะไม่เห็น"
      ],
      "execution_count": null,
      "outputs": [
        {
          "output_type": "stream",
          "text": [
            "% คือ การหารเอาเศษ เช่น 7%3 = 1) แต่\n",
            "/ คือ การหารปกติ เช่น 7/3 = 2.3333333333333335 และ \n",
            "// คือการหารเอาส่วน เช่น 7//3 = 2 หรือ\n",
            " ใช้ int() เพื่อหารเอาส่วน เช่น int(7/3) = 2\n"
          ],
          "name": "stdout"
        }
      ]
    },
    {
      "cell_type": "markdown",
      "metadata": {
        "id": "OCaZaE0kXCQ-"
      },
      "source": [
        "# DATA STRUCTURE (โครงสร้างข้อมูล)"
      ]
    },
    {
      "cell_type": "code",
      "metadata": {
        "colab": {
          "base_uri": "https://localhost:8080/"
        },
        "id": "-e3c-Er_VCpD",
        "outputId": "18831f70-f32d-46e9-c8f9-271cf373379e"
      },
      "source": [
        "[111,'c','งง',aaa]  # ต้องใส่ [] เพื่อสร้างข้อมูล"
      ],
      "execution_count": null,
      "outputs": [
        {
          "output_type": "execute_result",
          "data": {
            "text/plain": [
              "[111, 'c', 'งง', 1092]"
            ]
          },
          "metadata": {
            "tags": []
          },
          "execution_count": 28
        }
      ]
    },
    {
      "cell_type": "markdown",
      "metadata": {
        "id": "OeAK_WzyXOhW"
      },
      "source": [
        "## List คือ การเอาข้อมูลหลายๆตัวมาเรียงต่อกัน\r\n",
        "### list สามารถสร้างได้ 2 แบบ ดังนี้"
      ]
    },
    {
      "cell_type": "markdown",
      "metadata": {
        "id": "5zOKetfkXujm"
      },
      "source": [
        "#### แบบที่ 1 square brackets"
      ]
    },
    {
      "cell_type": "code",
      "metadata": {
        "colab": {
          "base_uri": "https://localhost:8080/"
        },
        "id": "DY2iJiutX195",
        "outputId": "9573e3ea-65ca-48cf-f086-ffef7247dec9"
      },
      "source": [
        "list_a = []\r\n",
        "print(list_a)"
      ],
      "execution_count": null,
      "outputs": [
        {
          "output_type": "stream",
          "text": [
            "[]\n"
          ],
          "name": "stdout"
        }
      ]
    },
    {
      "cell_type": "code",
      "metadata": {
        "colab": {
          "base_uri": "https://localhost:8080/"
        },
        "id": "1iaGiHQ2X9C_",
        "outputId": "c237a963-4177-430f-ffde-aac15ffba22a"
      },
      "source": [
        "list_b = [111,'c','งง',aaa]\r\n",
        "print(list_b)"
      ],
      "execution_count": null,
      "outputs": [
        {
          "output_type": "stream",
          "text": [
            "[111, 'c', 'งง', 1092]\n"
          ],
          "name": "stdout"
        }
      ]
    },
    {
      "cell_type": "markdown",
      "metadata": {
        "id": "Hw4jqkcEYg5m"
      },
      "source": [
        "##ลำดับที่อยู่ใน list มีความสำคัญ (ลำดับใน list เริ่มจาก 0,1,2,...)"
      ]
    },
    {
      "cell_type": "code",
      "metadata": {
        "colab": {
          "base_uri": "https://localhost:8080/",
          "height": 35
        },
        "id": "5d5ct3EhYoyA",
        "outputId": "56d6a465-4788-4316-bfa6-6556b44e25bb"
      },
      "source": [
        "list_b[2]"
      ],
      "execution_count": null,
      "outputs": [
        {
          "output_type": "execute_result",
          "data": {
            "application/vnd.google.colaboratory.intrinsic+json": {
              "type": "string"
            },
            "text/plain": [
              "'งง'"
            ]
          },
          "metadata": {
            "tags": []
          },
          "execution_count": 31
        }
      ]
    },
    {
      "cell_type": "markdown",
      "metadata": {
        "id": "tJvBJLRpYO16"
      },
      "source": [
        "####แบบที่ 2 "
      ]
    },
    {
      "cell_type": "code",
      "metadata": {
        "colab": {
          "base_uri": "https://localhost:8080/"
        },
        "id": "ANK1-VEPYfQQ",
        "outputId": "75090629-5bb9-4528-ea10-079c90530045"
      },
      "source": [
        "list_c = list()\r\n",
        "print(list_c)"
      ],
      "execution_count": null,
      "outputs": [
        {
          "output_type": "stream",
          "text": [
            "[]\n"
          ],
          "name": "stdout"
        }
      ]
    },
    {
      "cell_type": "markdown",
      "metadata": {
        "id": "lAYvzZn7Y10B"
      },
      "source": [
        "#append() เพิ่มสมาชิกใน list"
      ]
    },
    {
      "cell_type": "code",
      "metadata": {
        "colab": {
          "base_uri": "https://localhost:8080/"
        },
        "id": "qnv9BVjEY0pj",
        "outputId": "796339d1-1b7a-4d66-d21d-aab45341be76"
      },
      "source": [
        "list_b.append('u')\r\n",
        "print(list_b)"
      ],
      "execution_count": null,
      "outputs": [
        {
          "output_type": "stream",
          "text": [
            "[111, 'c', 'งง', 1092, 'u']\n"
          ],
          "name": "stdout"
        }
      ]
    },
    {
      "cell_type": "markdown",
      "metadata": {
        "id": "263gXtCWZ0Pu"
      },
      "source": [
        "ตัวที่อยู่ในวงเล็บหลังจากตัวแปร list เรียกว่า index ใช้สำหรับชี้ข้อมูลใน list\r\n",
        "\r\n",
        "(ชี้จากข้างหน้า , ชี้จากข้างหลัง)\r\n",
        "\r\n",
        "0 คือ สมาชิกตัวแรก , -1 คือ สมากชิกตัวสุดท้าย"
      ]
    },
    {
      "cell_type": "code",
      "metadata": {
        "colab": {
          "base_uri": "https://localhost:8080/",
          "height": 35
        },
        "id": "uRV2RhkJZ6dP",
        "outputId": "856caf2c-71ff-4fbc-ebff-a533dbcf876a"
      },
      "source": [
        "list_b[-1]"
      ],
      "execution_count": null,
      "outputs": [
        {
          "output_type": "execute_result",
          "data": {
            "application/vnd.google.colaboratory.intrinsic+json": {
              "type": "string"
            },
            "text/plain": [
              "'u'"
            ]
          },
          "metadata": {
            "tags": []
          },
          "execution_count": 34
        }
      ]
    },
    {
      "cell_type": "markdown",
      "metadata": {
        "id": "qe5Yfg-NZf7M"
      },
      "source": [
        "#String>list of characters"
      ]
    },
    {
      "cell_type": "code",
      "metadata": {
        "colab": {
          "base_uri": "https://localhost:8080/",
          "height": 35
        },
        "id": "6DGAK4HJaCyP",
        "outputId": "dc35b442-7011-4fe6-f8e5-15a63cd9af83"
      },
      "source": [
        "t = 'python is easy'\r\n",
        "t"
      ],
      "execution_count": null,
      "outputs": [
        {
          "output_type": "execute_result",
          "data": {
            "application/vnd.google.colaboratory.intrinsic+json": {
              "type": "string"
            },
            "text/plain": [
              "'python is easy'"
            ]
          },
          "metadata": {
            "tags": []
          },
          "execution_count": 35
        }
      ]
    },
    {
      "cell_type": "code",
      "metadata": {
        "colab": {
          "base_uri": "https://localhost:8080/",
          "height": 35
        },
        "id": "8QDZOWUZaVP0",
        "outputId": "5700bed8-609e-49b5-f7bf-a0f3ff8ebd58"
      },
      "source": [
        "t[1]"
      ],
      "execution_count": null,
      "outputs": [
        {
          "output_type": "execute_result",
          "data": {
            "application/vnd.google.colaboratory.intrinsic+json": {
              "type": "string"
            },
            "text/plain": [
              "'y'"
            ]
          },
          "metadata": {
            "tags": []
          },
          "execution_count": 36
        }
      ]
    },
    {
      "cell_type": "code",
      "metadata": {
        "colab": {
          "base_uri": "https://localhost:8080/",
          "height": 35
        },
        "id": "9OhixhwDaYDB",
        "outputId": "582b3805-b917-488f-d5d4-6dc8f1ecdbf1"
      },
      "source": [
        "t[-4]"
      ],
      "execution_count": null,
      "outputs": [
        {
          "output_type": "execute_result",
          "data": {
            "application/vnd.google.colaboratory.intrinsic+json": {
              "type": "string"
            },
            "text/plain": [
              "'e'"
            ]
          },
          "metadata": {
            "tags": []
          },
          "execution_count": 37
        }
      ]
    },
    {
      "cell_type": "code",
      "metadata": {
        "colab": {
          "base_uri": "https://localhost:8080/",
          "height": 35
        },
        "id": "C_3OKFxtaX2F",
        "outputId": "bc6283b7-fcf0-4ebd-cbb4-e960e2233b29"
      },
      "source": [
        "t[6]"
      ],
      "execution_count": null,
      "outputs": [
        {
          "output_type": "execute_result",
          "data": {
            "application/vnd.google.colaboratory.intrinsic+json": {
              "type": "string"
            },
            "text/plain": [
              "' '"
            ]
          },
          "metadata": {
            "tags": []
          },
          "execution_count": 38
        }
      ]
    },
    {
      "cell_type": "markdown",
      "metadata": {
        "id": "zyMa6cD9acqR"
      },
      "source": [
        "#จบ 5 มค 2021"
      ]
    },
    {
      "cell_type": "code",
      "metadata": {
        "colab": {
          "base_uri": "https://localhost:8080/"
        },
        "id": "kFosPhVNgOGu",
        "outputId": "0c589ae1-3fc9-42c9-c9d1-75b7396aa098"
      },
      "source": [
        "len(t)  # นับ string(t) มีกี่ตัว"
      ],
      "execution_count": null,
      "outputs": [
        {
          "output_type": "execute_result",
          "data": {
            "text/plain": [
              "14"
            ]
          },
          "metadata": {
            "tags": []
          },
          "execution_count": 39
        }
      ]
    },
    {
      "cell_type": "code",
      "metadata": {
        "id": "hAxJnC4BlOZD",
        "colab": {
          "base_uri": "https://localhost:8080/"
        },
        "outputId": "d0bde335-2c4d-4d76-a065-f4fcbae2e6ec"
      },
      "source": [
        "list_b"
      ],
      "execution_count": null,
      "outputs": [
        {
          "output_type": "execute_result",
          "data": {
            "text/plain": [
              "[111, 'c', 'งง', 1092, 'u', 'python is easy', 'python is easy']"
            ]
          },
          "metadata": {
            "tags": []
          },
          "execution_count": 63
        }
      ]
    },
    {
      "cell_type": "code",
      "metadata": {
        "colab": {
          "base_uri": "https://localhost:8080/"
        },
        "id": "kGOt8h87aJwb",
        "outputId": "399521a9-4912-41ad-a5a9-7836a5faac57"
      },
      "source": [
        "len(list_b)  # len คือคำสั่งตรวจสอบความยาวของ list (จำนวนสมาชิก)"
      ],
      "execution_count": null,
      "outputs": [
        {
          "output_type": "execute_result",
          "data": {
            "text/plain": [
              "6"
            ]
          },
          "metadata": {
            "tags": []
          },
          "execution_count": 44
        }
      ]
    },
    {
      "cell_type": "code",
      "metadata": {
        "id": "UEfV69lJifIL",
        "colab": {
          "base_uri": "https://localhost:8080/"
        },
        "outputId": "7aa9e642-9d9f-4f6c-9c21-6794903985a8"
      },
      "source": [
        "list_b.append(t)\r\n",
        "print(list_b)"
      ],
      "execution_count": null,
      "outputs": [
        {
          "output_type": "stream",
          "text": [
            "[111, 'c', 'งง', 1092, 'u', 'python is easy', 'python is easy']\n"
          ],
          "name": "stdout"
        }
      ]
    },
    {
      "cell_type": "markdown",
      "metadata": {
        "id": "jH7lgAE3lcrp"
      },
      "source": [
        "ตัวที่อยู่ข้างใน [ ] เราเรียกว่า index (ตัวชี้)"
      ]
    },
    {
      "cell_type": "markdown",
      "metadata": {
        "id": "YErgqKf_l0ZC"
      },
      "source": [
        "### List slicing สามารถทำได้โดยใช้ colon : \r\n",
        "##### [a:b] -> [a:b)"
      ]
    },
    {
      "cell_type": "code",
      "metadata": {
        "id": "k6kg_wzglQpX",
        "colab": {
          "base_uri": "https://localhost:8080/"
        },
        "outputId": "bd8ad509-38fd-4730-8c9e-5ceedaf97e7e"
      },
      "source": [
        "print(t)\r\n",
        "print(t[7:9])  # ใช้:เป็นตัวเริ่มตัด หน้า: เริ่มเอา หลัง:คือสิ้นสุดตัวที่ไม่เอา (เช่น 9)\r\n",
        "print(len(t[7:9]))"
      ],
      "execution_count": null,
      "outputs": [
        {
          "output_type": "stream",
          "text": [
            "python is easy\n",
            "is\n",
            "2\n"
          ],
          "name": "stdout"
        }
      ]
    },
    {
      "cell_type": "code",
      "metadata": {
        "id": "Bi12ohAHl-t4",
        "colab": {
          "base_uri": "https://localhost:8080/",
          "height": 35
        },
        "outputId": "eaf166ce-8581-40e4-a1f0-438269b17a95"
      },
      "source": [
        "t[0:14:2]"
      ],
      "execution_count": null,
      "outputs": [
        {
          "output_type": "execute_result",
          "data": {
            "application/vnd.google.colaboratory.intrinsic+json": {
              "type": "string"
            },
            "text/plain": [
              "'pto ses'"
            ]
          },
          "metadata": {
            "tags": []
          },
          "execution_count": 49
        }
      ]
    },
    {
      "cell_type": "markdown",
      "metadata": {
        "id": "KTJlLoiWoZLn"
      },
      "source": [
        "### quiz\r\n",
        "ให้ใช้ list slicing เลือกมาเฉพาะเลขคู๋"
      ]
    },
    {
      "cell_type": "code",
      "metadata": {
        "id": "cOCDdv7FoLki",
        "colab": {
          "base_uri": "https://localhost:8080/"
        },
        "outputId": "8d0a948d-62cb-41bf-abe1-95d9dc6a9a61"
      },
      "source": [
        "Z = [1,2,3,4,5,6,7,8,9,10]  # quiz\r\n",
        "print(Z[1:10:2])  # มันเริ่มตั้งแต่0แต่เราจะเลือกเริ่มที่1 : แล้วให้จบที่10ตัว : เอาทุกๆ2ตัว"
      ],
      "execution_count": null,
      "outputs": [
        {
          "output_type": "stream",
          "text": [
            "[2, 4, 6, 8, 10]\n"
          ],
          "name": "stdout"
        }
      ]
    },
    {
      "cell_type": "markdown",
      "metadata": {
        "id": "hcEE0c9Pm_rZ"
      },
      "source": [
        "ถ้าเว้นหน้า : หมายถึง เริ่มตั้งแต่ตัวแรก (0)\r\n",
        "\r\n",
        "ถ้าเว้นหลัง : หมายถึง ไปจนถึงตัวสุดท้าย (len(list))"
      ]
    },
    {
      "cell_type": "code",
      "metadata": {
        "id": "RvNFcTpZntOJ",
        "colab": {
          "base_uri": "https://localhost:8080/"
        },
        "outputId": "f283a8ec-d136-4a31-b736-57d31cab2e1e"
      },
      "source": [
        "print(t)\r\n",
        "print(t[:6])  # หน้าเว้นว่างคือเริ่มตั้งแต่ตัวแรก0\r\n",
        "print(t[10:])  # หลังเว้นว่างตั้งแต่ตัดไปจนถึงตัวสุดท้าย\r\n",
        "print(t[-4:])  # เอาตัวที่4 นับจากข้างหลังมา\r\n",
        "print(t[:])  # เอามาเหมือนt"
      ],
      "execution_count": null,
      "outputs": [
        {
          "output_type": "stream",
          "text": [
            "python is easy\n",
            "python\n",
            "easy\n",
            "easy\n",
            "python is easy\n"
          ],
          "name": "stdout"
        }
      ]
    },
    {
      "cell_type": "code",
      "metadata": {
        "id": "2EdJoGRUpdnL",
        "colab": {
          "base_uri": "https://localhost:8080/"
        },
        "outputId": "e70ea618-6baf-4c6c-9ad7-518d732bb893"
      },
      "source": [
        "print(Z[::2])  # เอาเลขคี่ คือ เริ่มตั้งแต่0จนถึงตัวสุดท้าย แล้วเอาทุกๆ2ตัว"
      ],
      "execution_count": null,
      "outputs": [
        {
          "output_type": "stream",
          "text": [
            "[1, 3, 5, 7, 9]\n"
          ],
          "name": "stdout"
        }
      ]
    },
    {
      "cell_type": "markdown",
      "metadata": {
        "id": "mksKyrEWptYp"
      },
      "source": [
        "### เราสามารถเอา list มาต่อกันได้ด้วย +"
      ]
    },
    {
      "cell_type": "code",
      "metadata": {
        "id": "viroYCZYr5xE",
        "colab": {
          "base_uri": "https://localhost:8080/",
          "height": 35
        },
        "outputId": "99767954-6245-4792-aab5-793b92ee0be0"
      },
      "source": [
        "t + '??'"
      ],
      "execution_count": null,
      "outputs": [
        {
          "output_type": "execute_result",
          "data": {
            "application/vnd.google.colaboratory.intrinsic+json": {
              "type": "string"
            },
            "text/plain": [
              "'python is easy??'"
            ]
          },
          "metadata": {
            "tags": []
          },
          "execution_count": 59
        }
      ]
    },
    {
      "cell_type": "code",
      "metadata": {
        "id": "wg2Guw93r89X",
        "colab": {
          "base_uri": "https://localhost:8080/",
          "height": 163
        },
        "outputId": "6feef9ab-4726-43be-b444-e0183d39c00f"
      },
      "source": [
        "t + list_b  # ไม่สามารถนำ list ปกติมาต่อกับ string ได้ (ไม่สามารถนำไปบวก list กันตรงๆได้)"
      ],
      "execution_count": null,
      "outputs": [
        {
          "output_type": "error",
          "ename": "TypeError",
          "evalue": "ignored",
          "traceback": [
            "\u001b[0;31m---------------------------------------------------------------------------\u001b[0m",
            "\u001b[0;31mTypeError\u001b[0m                                 Traceback (most recent call last)",
            "\u001b[0;32m<ipython-input-60-9a113c32e507>\u001b[0m in \u001b[0;36m<module>\u001b[0;34m()\u001b[0m\n\u001b[0;32m----> 1\u001b[0;31m \u001b[0mt\u001b[0m \u001b[0;34m+\u001b[0m \u001b[0mlist_b\u001b[0m  \u001b[0;31m# ไม่สามารถนำ list ปกติมาต่อกับ string ได้ (ไม่สามารถนำไปบวก list กันตรงๆได้)\u001b[0m\u001b[0;34m\u001b[0m\u001b[0;34m\u001b[0m\u001b[0m\n\u001b[0m",
            "\u001b[0;31mTypeError\u001b[0m: must be str, not list"
          ]
        }
      ]
    },
    {
      "cell_type": "code",
      "metadata": {
        "id": "nfsBElywsZrJ",
        "colab": {
          "base_uri": "https://localhost:8080/"
        },
        "outputId": "bd743f09-2a4a-47ee-ad2b-19ce2ec97fea"
      },
      "source": [
        "print(list_a)\r\n",
        "print(list_b)\r\n",
        "print(list_b + list_a)  # บวกคือเอาสมาชิกมารวมกัน"
      ],
      "execution_count": null,
      "outputs": [
        {
          "output_type": "stream",
          "text": [
            "[]\n",
            "[111, 'c', 'งง', 1092, []]\n",
            "[111, 'c', 'งง', 1092, []]\n"
          ],
          "name": "stdout"
        }
      ]
    },
    {
      "cell_type": "code",
      "metadata": {
        "id": "6bFYRI5Qsp2w",
        "colab": {
          "base_uri": "https://localhost:8080/"
        },
        "outputId": "94202b16-4e49-4a8e-eea6-cd7a2dae213c"
      },
      "source": [
        "list_b.append(list_a)  # เอา list_a มาต่อสมาชิกของ list_b\r\n",
        "print(list_b)"
      ],
      "execution_count": null,
      "outputs": [
        {
          "output_type": "stream",
          "text": [
            "[111, 'c', 'งง', 1092, [], []]\n"
          ],
          "name": "stdout"
        }
      ]
    },
    {
      "cell_type": "markdown",
      "metadata": {
        "id": "YhT5u-oht2lM"
      },
      "source": [
        "### การแบ่ง string ตามสัญลักษณ์ที่กำหนด -> split string\r\n",
        "\r\n",
        "สามารถแบ่งtext ด้วยสัญลักษณ์"
      ]
    },
    {
      "cell_type": "code",
      "metadata": {
        "id": "HWevu4P3uGN-",
        "colab": {
          "base_uri": "https://localhost:8080/",
          "height": 35
        },
        "outputId": "31a2c793-ec67-4372-b67f-e892cfeaba1d"
      },
      "source": [
        "t"
      ],
      "execution_count": null,
      "outputs": [
        {
          "output_type": "execute_result",
          "data": {
            "application/vnd.google.colaboratory.intrinsic+json": {
              "type": "string"
            },
            "text/plain": [
              "'python is easy'"
            ]
          },
          "metadata": {
            "tags": []
          },
          "execution_count": 70
        }
      ]
    },
    {
      "cell_type": "code",
      "metadata": {
        "id": "yJn6UzSvuHid",
        "colab": {
          "base_uri": "https://localhost:8080/"
        },
        "outputId": "d0087e0c-21fa-4121-c7d2-ac5cebde6f73"
      },
      "source": [
        "t.split(' ')  # อันนี้เป็นการแบ่งstringด้วยช่องเว้นว่าง"
      ],
      "execution_count": null,
      "outputs": [
        {
          "output_type": "execute_result",
          "data": {
            "text/plain": [
              "['python', 'is', 'easy']"
            ]
          },
          "metadata": {
            "tags": []
          },
          "execution_count": 71
        }
      ]
    },
    {
      "cell_type": "code",
      "metadata": {
        "id": "PJw-ZtkYuK94"
      },
      "source": [
        "time = '12:30:15'"
      ],
      "execution_count": null,
      "outputs": []
    },
    {
      "cell_type": "code",
      "metadata": {
        "id": "siPG5Y1Nuu86",
        "colab": {
          "base_uri": "https://localhost:8080/"
        },
        "outputId": "bd4c4c8d-dc40-4fe7-9415-6f5e211ecfad"
      },
      "source": [
        "time.split(':')"
      ],
      "execution_count": null,
      "outputs": [
        {
          "output_type": "execute_result",
          "data": {
            "text/plain": [
              "['12', '30', '15']"
            ]
          },
          "metadata": {
            "tags": []
          },
          "execution_count": 74
        }
      ]
    },
    {
      "cell_type": "code",
      "metadata": {
        "id": "LTFS52dDuzlT",
        "colab": {
          "base_uri": "https://localhost:8080/"
        },
        "outputId": "084ac4a6-c94d-49c8-973a-0c2d1cb16c0c"
      },
      "source": [
        "t_sp = t.split(' ')\r\n",
        "print(t_sp)"
      ],
      "execution_count": null,
      "outputs": [
        {
          "output_type": "stream",
          "text": [
            "['python', 'is', 'easy']\n"
          ],
          "name": "stdout"
        }
      ]
    },
    {
      "cell_type": "code",
      "metadata": {
        "id": "5TTQfFz_vHji",
        "colab": {
          "base_uri": "https://localhost:8080/"
        },
        "outputId": "59d8c64c-cec8-4664-fb0e-79d88d992848"
      },
      "source": [
        "# วิธีรวมกลับ (ไม่ค่อยได้ใช้)\r\n",
        "print(':'.join(t_sp))"
      ],
      "execution_count": null,
      "outputs": [
        {
          "output_type": "stream",
          "text": [
            "python:is:easy\n"
          ],
          "name": "stdout"
        }
      ]
    },
    {
      "cell_type": "markdown",
      "metadata": {
        "id": "LPxfiCcJvZ0u"
      },
      "source": [
        "### HW คำนวณเวลาเป็นวินาทีของเวลาต่อไปนี้ โดยใช้คำสั่ง split() ช่วย (printออกมาให้สวยงาม)\r\n",
        "12:30:15\r\n",
        "\r\n",
        "13:41:07\r\n",
        "\r\n",
        "12:53:15\r\n",
        "\r\n",
        "00:59:25\r\n",
        "\r\n",
        "11:11:11\r\n",
        "\r\n",
        "16:06:09\r\n",
        "\r\n",
        "21:12:30\r\n",
        "\r\n",
        "10:06:15\r\n",
        "\r\n",
        "ตัวอย่าง > 00:01:10 = 70 นาที\r\n",
        "\r\n",
        "ตัวอย่าง > 01:00:01 = 3601 วินาที"
      ]
    },
    {
      "cell_type": "code",
      "metadata": {
        "id": "tnG6MP-myHtr",
        "colab": {
          "base_uri": "https://localhost:8080/"
        },
        "outputId": "2d091862-bb52-4848-892a-8a7d5843f89c"
      },
      "source": [
        "q1 = '12:30:15'\r\n",
        "q1.split(':')\r\n",
        "list_q1 = [12,30,15]\r\n",
        "h = list_q1[0]*3600  # 1 ชั่วโมง = 3600 วินาที\r\n",
        "m = list_q1[1]*60   # 1 นาที = 60 วินาที\r\n",
        "s = list_q1[2]\r\n",
        "ans_q1 = h+m+s\r\n",
        "print(ans_q1,'วินาที')"
      ],
      "execution_count": null,
      "outputs": [
        {
          "output_type": "stream",
          "text": [
            "45015 วินาที\n"
          ],
          "name": "stdout"
        }
      ]
    },
    {
      "cell_type": "code",
      "metadata": {
        "id": "9TOAiDD2rAhU",
        "colab": {
          "base_uri": "https://localhost:8080/"
        },
        "outputId": "6852d529-14d6-4b54-a16d-862dfe0a804a"
      },
      "source": [
        "q2 = '13:41:07'\r\n",
        "q2.split(':')\r\n",
        "list_q2 = [13,41,7]\r\n",
        "h = list_q2[0]*3600\r\n",
        "m = list_q2[1]*60\r\n",
        "s = list_q2[2]\r\n",
        "ans_q2 = h+m+s\r\n",
        "print(ans_q2,'วินาที')"
      ],
      "execution_count": null,
      "outputs": [
        {
          "output_type": "stream",
          "text": [
            "49267 วินาที\n"
          ],
          "name": "stdout"
        }
      ]
    },
    {
      "cell_type": "code",
      "metadata": {
        "id": "NSrZsyjQrLht",
        "colab": {
          "base_uri": "https://localhost:8080/"
        },
        "outputId": "c1be9189-b741-4db2-9adf-8dc16087a618"
      },
      "source": [
        "q3 = '12:53:15'\r\n",
        "q3.split(':')\r\n",
        "list_q3 = [12,53,15]\r\n",
        "h = list_q3[0]*3600\r\n",
        "m = list_q3[1]*60\r\n",
        "s = list_q3[2]\r\n",
        "ans_q3 = h+m+s\r\n",
        "print(ans_q3,'วินาที')"
      ],
      "execution_count": null,
      "outputs": [
        {
          "output_type": "stream",
          "text": [
            "46395 วินาที\n"
          ],
          "name": "stdout"
        }
      ]
    },
    {
      "cell_type": "code",
      "metadata": {
        "id": "bMJdZAPQrOKM",
        "colab": {
          "base_uri": "https://localhost:8080/"
        },
        "outputId": "64330fab-8b93-4997-8e1d-5df558f71b69"
      },
      "source": [
        "q4 = '00:59:25'\r\n",
        "q4.split(':')\r\n",
        "list_q4 = [00,59,25]\r\n",
        "h = list_q4[0]*3600\r\n",
        "m = list_q4[1]*60\r\n",
        "s = list_q4[2]\r\n",
        "ans_q4 = h+m+s\r\n",
        "print(ans_q4,'วินาที')"
      ],
      "execution_count": null,
      "outputs": [
        {
          "output_type": "stream",
          "text": [
            "3565 วินาที\n"
          ],
          "name": "stdout"
        }
      ]
    },
    {
      "cell_type": "code",
      "metadata": {
        "id": "AZAXaXqqrQ9r",
        "colab": {
          "base_uri": "https://localhost:8080/"
        },
        "outputId": "17ca4a65-09f5-41a0-f9b1-c03f382f8db4"
      },
      "source": [
        "q5 = '11:11:11'\r\n",
        "q5.split(':')\r\n",
        "list_q5 = [11,11,11]\r\n",
        "h = list_q5[0]*3600\r\n",
        "m = list_q5[1]*60\r\n",
        "s = list_q5[2]\r\n",
        "ans_q5 = h+m+s\r\n",
        "print(ans_q5,'วินาที')"
      ],
      "execution_count": null,
      "outputs": [
        {
          "output_type": "stream",
          "text": [
            "40271 วินาที\n"
          ],
          "name": "stdout"
        }
      ]
    },
    {
      "cell_type": "code",
      "metadata": {
        "id": "7Dqv1U1krTGx",
        "colab": {
          "base_uri": "https://localhost:8080/"
        },
        "outputId": "90968712-430a-4e24-d115-5a3e24b8850c"
      },
      "source": [
        "q6 = '16:06:09'\r\n",
        "q6.split(':')\r\n",
        "list_q6 = [16,6,9]\r\n",
        "h = list_q6[0]*3600\r\n",
        "m = list_q6[1]*60\r\n",
        "s = list_q6[2]\r\n",
        "ans_q6 = h+m+s\r\n",
        "print(ans_q6,'วินาที')"
      ],
      "execution_count": null,
      "outputs": [
        {
          "output_type": "stream",
          "text": [
            "57969 วินาที\n"
          ],
          "name": "stdout"
        }
      ]
    },
    {
      "cell_type": "code",
      "metadata": {
        "id": "55T8TDdlrWQw",
        "colab": {
          "base_uri": "https://localhost:8080/"
        },
        "outputId": "8d645b71-158b-4e9b-96e5-f3f039b39d2c"
      },
      "source": [
        "q7 = '21:12:30'\r\n",
        "q7.split(':')\r\n",
        "list_q7 = [21,12,30]\r\n",
        "h = list_q7[0]*3600\r\n",
        "m = list_q7[1]*60\r\n",
        "s = list_q7[2]\r\n",
        "ans_q7 = h+m+s\r\n",
        "print(ans_q7,'วินาที')"
      ],
      "execution_count": null,
      "outputs": [
        {
          "output_type": "stream",
          "text": [
            "76350 วินาที\n"
          ],
          "name": "stdout"
        }
      ]
    },
    {
      "cell_type": "code",
      "metadata": {
        "id": "nv7f2ie_rYFx",
        "colab": {
          "base_uri": "https://localhost:8080/"
        },
        "outputId": "d7733666-6308-4bb8-ed33-d7505a381f86"
      },
      "source": [
        "q8 = '10:06:15'\r\n",
        "q8.split(':')\r\n",
        "list_q8 = [10,6,15]\r\n",
        "h = list_q8[0]*3600\r\n",
        "m = list_q8[1]*60\r\n",
        "s = list_q8[2]\r\n",
        "ans_q8 = h+m+s\r\n",
        "print(ans_q8,'วินาที')"
      ],
      "execution_count": null,
      "outputs": [
        {
          "output_type": "stream",
          "text": [
            "36375 วินาที\n"
          ],
          "name": "stdout"
        }
      ]
    },
    {
      "cell_type": "code",
      "metadata": {
        "id": "Xr_5CT3pi6nt"
      },
      "source": [
        "q9 = '00:1:1'\r\n",
        "q9.split(':')\r\n",
        "list_q9 = [00,1,1]\r\n",
        "h = list_q9[0]*3600 \r\n",
        "m = list_q9[1]*60  \r\n",
        "s = list_q9[2]\r\n",
        "ans_q9 = h+m+s\r\n",
        "print(ans_q9,'วินาที')"
      ],
      "execution_count": null,
      "outputs": []
    },
    {
      "cell_type": "markdown",
      "metadata": {
        "id": "yGRZBcpzjAJs"
      },
      "source": [
        "### เฉลยแบบแยกย่อย"
      ]
    },
    {
      "cell_type": "code",
      "metadata": {
        "id": "Qcc_jDZuRMaP"
      },
      "source": [
        "q1 = '12:30:15'"
      ],
      "execution_count": 1,
      "outputs": []
    },
    {
      "cell_type": "code",
      "metadata": {
        "id": "6tIsu-XGjGSg",
        "outputId": "b584bbdd-d709-4c06-e492-39f0073bac4d",
        "colab": {
          "base_uri": "https://localhost:8080/"
        }
      },
      "source": [
        "q1_sp = q1.split(':')\r\n",
        "print(q1_sp) "
      ],
      "execution_count": 2,
      "outputs": [
        {
          "output_type": "stream",
          "text": [
            "['12', '30', '15']\n"
          ],
          "name": "stdout"
        }
      ]
    },
    {
      "cell_type": "code",
      "metadata": {
        "id": "KVOHt4_njJ5P",
        "outputId": "de1851d6-377d-4b36-d05a-7e6b6d9eb9cc",
        "colab": {
          "base_uri": "https://localhost:8080/"
        }
      },
      "source": [
        "ans_1 = int(q1_sp[0])*3600 + int(q1_sp[1])*60 + int(q1_sp[2])\r\n",
        "print(ans_1) "
      ],
      "execution_count": 4,
      "outputs": [
        {
          "output_type": "stream",
          "text": [
            "45015\n"
          ],
          "name": "stdout"
        }
      ]
    },
    {
      "cell_type": "code",
      "metadata": {
        "id": "IU8uJCzTjMTR",
        "outputId": "5ed829ad-87e9-4dac-ce9f-a2753f458184",
        "colab": {
          "base_uri": "https://localhost:8080/"
        }
      },
      "source": [
        "print(f'เวลา {q1} คำนวณเป็นจำนวนวินาทีได้เท่ากับ {ans_1}')"
      ],
      "execution_count": 5,
      "outputs": [
        {
          "output_type": "stream",
          "text": [
            "เวลา 12:30:15 คำนวณเป็นจำนวนวินาทีได้เท่ากับ 45015\n"
          ],
          "name": "stdout"
        }
      ]
    },
    {
      "cell_type": "markdown",
      "metadata": {
        "id": "5dXuVKwKjhSX"
      },
      "source": [
        "### เฉลยแบบรวมเข้าด้วยกัน"
      ]
    },
    {
      "cell_type": "code",
      "metadata": {
        "id": "dpX_dL3VjQn4",
        "outputId": "81cbb440-3b2f-4a9b-ee0b-27de8c510036",
        "colab": {
          "base_uri": "https://localhost:8080/"
        }
      },
      "source": [
        "q1 = '12:30:15'\r\n",
        "q1_sp = q1.split(':')\r\n",
        "ans_1 = int(q1_sp[0])*3600 + int(q1_sp[1])*60 + int(q1_sp[2])\r\n",
        "print(f'เวลา {q1} คำนวณเป็นจำนวนวินาทีได้เท่ากับ {ans_1}')"
      ],
      "execution_count": 6,
      "outputs": [
        {
          "output_type": "stream",
          "text": [
            "เวลา 12:30:15 คำนวณเป็นจำนวนวินาทีได้เท่ากับ 45015\n"
          ],
          "name": "stdout"
        }
      ]
    }
  ]
}