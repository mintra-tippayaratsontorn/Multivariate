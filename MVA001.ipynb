{
  "nbformat": 4,
  "nbformat_minor": 0,
  "metadata": {
    "colab": {
      "name": "MVA001.ipynb",
      "provenance": [],
      "authorship_tag": "ABX9TyN2CCk0oEbWmH/Ek4lS6JbJ",
      "include_colab_link": true
    },
    "kernelspec": {
      "name": "python3",
      "display_name": "Python 3"
    }
  },
  "cells": [
    {
      "cell_type": "markdown",
      "metadata": {
        "id": "view-in-github",
        "colab_type": "text"
      },
      "source": [
        "<a href=\"https://colab.research.google.com/github/mintra-tippayaratsontorn/Multivariate/blob/main/MVA001.ipynb\" target=\"_parent\"><img src=\"https://colab.research.google.com/assets/colab-badge.svg\" alt=\"Open In Colab\"/></a>"
      ]
    },
    {
      "cell_type": "markdown",
      "metadata": {
        "id": "nEW0bXf4TBsl"
      },
      "source": [
        "Scalar , Vector , Matrix\r\n",
        "- scalar บอกขนาด\r\n",
        "- vector บอกขนาดและทิศทาง\r\n",
        "- matrix "
      ]
    },
    {
      "cell_type": "markdown",
      "metadata": {
        "id": "qFv1PZzUblAk"
      },
      "source": [
        "```plt.plot()``` ใช้สำหรับplotจุดลงในกราฟ"
      ]
    },
    {
      "cell_type": "markdown",
      "metadata": {
        "id": "ZDy3hpzwY6-O"
      },
      "source": [
        "# Scalar"
      ]
    },
    {
      "cell_type": "code",
      "metadata": {
        "id": "326fpHP6Ttaw"
      },
      "source": [
        "import numpy as np"
      ],
      "execution_count": 3,
      "outputs": []
    },
    {
      "cell_type": "code",
      "metadata": {
        "colab": {
          "base_uri": "https://localhost:8080/"
        },
        "id": "PPqEFACnS6Dm",
        "outputId": "4cef6990-dee5-4333-e348-32771cf1728f"
      },
      "source": [
        "scalar_a = 10  # scalar\r\n",
        "print(scalar_a)"
      ],
      "execution_count": 4,
      "outputs": [
        {
          "output_type": "stream",
          "text": [
            "10\n"
          ],
          "name": "stdout"
        }
      ]
    },
    {
      "cell_type": "markdown",
      "metadata": {
        "id": "8GwPWe5NXTvR"
      },
      "source": [
        "# Vector"
      ]
    },
    {
      "cell_type": "code",
      "metadata": {
        "id": "udW-XpcVZbdc"
      },
      "source": [
        ""
      ],
      "execution_count": null,
      "outputs": []
    },
    {
      "cell_type": "code",
      "metadata": {
        "colab": {
          "base_uri": "https://localhost:8080/"
        },
        "id": "Pyel6lxrTjyb",
        "outputId": "6d59a2e9-7fbe-48b7-8601-a45984c45417"
      },
      "source": [
        "vector_b = np.zeros([2,1])  # vector\r\n",
        "vector_b[0,0] = 2\r\n",
        "vector_b[1,0] = 3\r\n",
        "print(vector_b)\r\n",
        "print(vector_b.shape)"
      ],
      "execution_count": 19,
      "outputs": [
        {
          "output_type": "stream",
          "text": [
            "[[2.]\n",
            " [3.]]\n",
            "(2, 1)\n"
          ],
          "name": "stdout"
        }
      ]
    },
    {
      "cell_type": "code",
      "metadata": {
        "colab": {
          "base_uri": "https://localhost:8080/"
        },
        "id": "W4fGwpBXUsNe",
        "outputId": "65c17cba-11d6-421d-a55f-5b919f3627d8"
      },
      "source": [
        "vector_c = np.array([[1],[3]])\r\n",
        "print(vector_c)\r\n",
        "print(vector_c.shape)"
      ],
      "execution_count": 12,
      "outputs": [
        {
          "output_type": "stream",
          "text": [
            "[[1]\n",
            " [3]]\n",
            "(2, 1)\n"
          ],
          "name": "stdout"
        }
      ]
    },
    {
      "cell_type": "code",
      "metadata": {
        "id": "ea375qWfUsLO"
      },
      "source": [
        "from matplotlib import pyplot as plt"
      ],
      "execution_count": 13,
      "outputs": []
    },
    {
      "cell_type": "code",
      "metadata": {
        "colab": {
          "base_uri": "https://localhost:8080/",
          "height": 282
        },
        "id": "nq4f0AolUsI4",
        "outputId": "2db024de-f56c-4d2c-bea2-405266954dc4"
      },
      "source": [
        "plt.plot(vector_b[0,0],vector_c[1,0],'or')  # vector คือขนาด 1 จุด"
      ],
      "execution_count": 15,
      "outputs": [
        {
          "output_type": "execute_result",
          "data": {
            "text/plain": [
              "[<matplotlib.lines.Line2D at 0x7fd576f969e8>]"
            ]
          },
          "metadata": {
            "tags": []
          },
          "execution_count": 15
        },
        {
          "output_type": "display_data",
          "data": {
            "image/png": "[encoded data removed]",
            "text/plain": [
              "<Figure size 432x288 with 1 Axes>"
            ]
          },
          "metadata": {
            "tags": [],
            "needs_background": "light"
          }
        }
      ]
    },
    {
      "cell_type": "code",
      "metadata": {
        "colab": {
          "base_uri": "https://localhost:8080/",
          "height": 282
        },
        "id": "HR6FKjgIWsF2",
        "outputId": "53f0e9d1-5b58-42bf-c631-5a0e57bfe002"
      },
      "source": [
        "plt.quiver(0,0,vector_b[0,0],vector_c[1,0])  # ทิศทางชี้ไปตามลูกศร"
      ],
      "execution_count": 18,
      "outputs": [
        {
          "output_type": "execute_result",
          "data": {
            "text/plain": [
              "<matplotlib.quiver.Quiver at 0x7fd56e0cd4a8>"
            ]
          },
          "metadata": {
            "tags": []
          },
          "execution_count": 18
        },
        {
          "output_type": "display_data",
          "data": {
            "image/png": "[encoded data removed]",
            "text/plain": [
              "<Figure size 432x288 with 1 Axes>"
            ]
          },
          "metadata": {
            "tags": [],
            "needs_background": "light"
          }
        }
      ]
    },
    {
      "cell_type": "markdown",
      "metadata": {
        "id": "8q_1P69IXzkP"
      },
      "source": [
        "ขนาดของ vector คำนวณได้โดย พิธากอสรัส "
      ]
    },
    {
      "cell_type": "code",
      "metadata": {
        "colab": {
          "base_uri": "https://localhost:8080/"
        },
        "id": "78dSjFxNYK81",
        "outputId": "37bcadbb-124d-4892-eb5d-a33311d5dadf"
      },
      "source": [
        "vector_b_size = ((vector_b[0,0]**2) + (vector_b[1,0]**2))**0.5\r\n",
        "print(vector_b_size)"
      ],
      "execution_count": 20,
      "outputs": [
        {
          "output_type": "stream",
          "text": [
            "3.605551275463989\n"
          ],
          "name": "stdout"
        }
      ]
    },
    {
      "cell_type": "markdown",
      "metadata": {
        "id": "yybbpvw5Z9UV"
      },
      "source": [
        "# Matrix"
      ]
    },
    {
      "cell_type": "code",
      "metadata": {
        "colab": {
          "base_uri": "https://localhost:8080/"
        },
        "id": "lwSXUs21ZbgR",
        "outputId": "d6e3ea0b-4d83-485c-8e2f-1ff73eaad0e2"
      },
      "source": [
        "matrix_d = np.array([[2,3],[1,4],[-1,1]])\r\n",
        "print(matrix_d)"
      ],
      "execution_count": 21,
      "outputs": [
        {
          "output_type": "stream",
          "text": [
            "[[ 2  3]\n",
            " [ 1  4]\n",
            " [-1  1]]\n"
          ],
          "name": "stdout"
        }
      ]
    },
    {
      "cell_type": "code",
      "metadata": {
        "colab": {
          "base_uri": "https://localhost:8080/"
        },
        "id": "Zjv9kfT2WsBW",
        "outputId": "be11ae45-74f0-4317-8d23-a8d2651ef66f"
      },
      "source": [
        "matrix_d = matrix_d.T\r\n",
        "print(matrix_d)"
      ],
      "execution_count": 22,
      "outputs": [
        {
          "output_type": "stream",
          "text": [
            "[[ 2  1 -1]\n",
            " [ 3  4  1]]\n"
          ],
          "name": "stdout"
        }
      ]
    },
    {
      "cell_type": "markdown",
      "metadata": {
        "id": "LQwq1Vz0dZ3l"
      },
      "source": [
        "### สัญลักษณ์ของ plt plot\r\n",
        "\r\n",
        "https://matplotlib.org/3.3.3/api/_as_gen/matplotlib.pyplot.plot.html"
      ]
    },
    {
      "cell_type": "code",
      "metadata": {
        "colab": {
          "base_uri": "https://localhost:8080/",
          "height": 282
        },
        "id": "CxzynZHHWr_N",
        "outputId": "111dc0ec-82b5-46cc-9de2-99957e21d045"
      },
      "source": [
        "plt.plot(matrix_d[0,:],matrix_d[1,:],'or')  # plot(ค่าx,ค่าy,หน้าตาของจุด) / o(จุด) / r(สีแดง)\r\n",
        "plt.plot(0,0,'.b')\r\n",
        "plt.plot([0,0],[-1,5],'--b')  # --(เส้นปะ) / b(เส้นสีฟ้า)เราสามารถเปลี่ยนเป็นสีอื่นได้ / มี 2 จุด(xกับy)\r\n",
        "plt.plot([-1.5,2.5],[0,0],'--m')"
      ],
      "execution_count": 32,
      "outputs": [
        {
          "output_type": "execute_result",
          "data": {
            "text/plain": [
              "[<matplotlib.lines.Line2D at 0x7fd56e116b00>]"
            ]
          },
          "metadata": {
            "tags": []
          },
          "execution_count": 32
        },
        {
          "output_type": "display_data",
          "data": {
            "image/png": "[encoded data removed]",
            "text/plain": [
              "<Figure size 432x288 with 1 Axes>"
            ]
          },
          "metadata": {
            "tags": [],
            "needs_background": "light"
          }
        }
      ]
    },
    {
      "cell_type": "code",
      "metadata": {
        "colab": {
          "base_uri": "https://localhost:8080/",
          "height": 282
        },
        "id": "NA-0_rL8cL3i",
        "outputId": "28d1d424-1b01-4784-af00-c031607bcbcb"
      },
      "source": [
        "plt.plot(matrix_d[0,:],matrix_d[1,:],'or')  # print กราฟออกมาดูค่า(x,y)"
      ],
      "execution_count": 27,
      "outputs": [
        {
          "output_type": "execute_result",
          "data": {
            "text/plain": [
              "[<matplotlib.lines.Line2D at 0x7fd56deb0c18>]"
            ]
          },
          "metadata": {
            "tags": []
          },
          "execution_count": 27
        },
        {
          "output_type": "display_data",
          "data": {
            "image/png": "[encoded data removed]",
            "text/plain": [
              "<Figure size 432x288 with 1 Axes>"
            ]
          },
          "metadata": {
            "tags": [],
            "needs_background": "light"
          }
        }
      ]
    },
    {
      "cell_type": "markdown",
      "metadata": {
        "id": "iaFJdvkAkSaz"
      },
      "source": [
        "# Transpose"
      ]
    },
    {
      "cell_type": "code",
      "metadata": {
        "colab": {
          "base_uri": "https://localhost:8080/"
        },
        "id": "cqeq96pyWr6m",
        "outputId": "3624e589-baab-4679-a0a7-a9a1e6decead"
      },
      "source": [
        "A = np.array([[-3,1,2],[1,5,4]])\r\n",
        "print(A)"
      ],
      "execution_count": 33,
      "outputs": [
        {
          "output_type": "stream",
          "text": [
            "[[-3  1  2]\n",
            " [ 1  5  4]]\n"
          ],
          "name": "stdout"
        }
      ]
    },
    {
      "cell_type": "code",
      "metadata": {
        "colab": {
          "base_uri": "https://localhost:8080/"
        },
        "id": "O4-EImCRlaJT",
        "outputId": "c5b0dcde-7449-4ed7-ac5b-88f3ecce27f0"
      },
      "source": [
        "A.T"
      ],
      "execution_count": 34,
      "outputs": [
        {
          "output_type": "execute_result",
          "data": {
            "text/plain": [
              "array([[-3,  1],\n",
              "       [ 1,  5],\n",
              "       [ 2,  4]])"
            ]
          },
          "metadata": {
            "tags": []
          },
          "execution_count": 34
        }
      ]
    },
    {
      "cell_type": "markdown",
      "metadata": {
        "id": "mHK2-zX7lcnP"
      },
      "source": [
        "## Matrix Multiply\r\n",
        "\r\n",
        "*B = A * A'*\r\n",
        "\r\n"
      ]
    },
    {
      "cell_type": "code",
      "metadata": {
        "colab": {
          "base_uri": "https://localhost:8080/"
        },
        "id": "1oofgo9VlaHI",
        "outputId": "af45543c-918a-44eb-c503-41675e07dd8f"
      },
      "source": [
        "B = np.dot(A,A.T)\r\n",
        "print(B)"
      ],
      "execution_count": 36,
      "outputs": [
        {
          "output_type": "stream",
          "text": [
            "[[14 10]\n",
            " [10 42]]\n"
          ],
          "name": "stdout"
        }
      ]
    },
    {
      "cell_type": "markdown",
      "metadata": {
        "id": "RcD6K8dNmDvn"
      },
      "source": [
        "## Determinant\r\n",
        "\r\n",
        "*Det(B)*"
      ]
    },
    {
      "cell_type": "code",
      "metadata": {
        "colab": {
          "base_uri": "https://localhost:8080/"
        },
        "id": "t36nhVnelaE0",
        "outputId": "c0435ea3-bf18-4801-dd5f-c83f3b1a6606"
      },
      "source": [
        "np.linalg.det(B)"
      ],
      "execution_count": 37,
      "outputs": [
        {
          "output_type": "execute_result",
          "data": {
            "text/plain": [
              "487.9999999999998"
            ]
          },
          "metadata": {
            "tags": []
          },
          "execution_count": 37
        }
      ]
    }
  ]
}