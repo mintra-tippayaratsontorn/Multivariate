{
  "nbformat": 4,
  "nbformat_minor": 0,
  "metadata": {
    "colab": {
      "name": "Function_Numpy_Pandas.ipynb",
      "provenance": [],
      "authorship_tag": "ABX9TyPGTuWTDfWBCBSYTF6itDoJ",
      "include_colab_link": true
    },
    "kernelspec": {
      "name": "python3",
      "display_name": "Python 3"
    }
  },
  "cells": [
    {
      "cell_type": "markdown",
      "metadata": {
        "id": "view-in-github",
        "colab_type": "text"
      },
      "source": [
        "<a href=\"https://colab.research.google.com/github/mintra-tippayaratsontorn/Multivariate/blob/main/Function_Numpy_Pandas.ipynb\" target=\"_parent\"><img src=\"https://colab.research.google.com/assets/colab-badge.svg\" alt=\"Open In Colab\"/></a>"
      ]
    },
    {
      "cell_type": "markdown",
      "metadata": {
        "id": "dNyLwyGZhuw8"
      },
      "source": [
        "#Function"
      ]
    },
    {
      "cell_type": "markdown",
      "metadata": {
        "id": "8uasMU8Bfgyc"
      },
      "source": [
        "```python\r\n",
        "def function_name(_Input_) : \r\n",
        "    do_something with _Input_ to get _Output_\r\n",
        "    return _Output_\r\n",
        "```\r\n",
        "\r\n",
        "*เอียง*\r\n",
        "\r\n",
        "```backtick กดค้างตรงที่เปลี่ยนภาษา"
      ]
    },
    {
      "cell_type": "markdown",
      "metadata": {
        "id": "4gRGniRKTj-w"
      },
      "source": [
        "function มีส่วนสำคัญทั้งหมด 4 ส่วน\r\n",
        "  1. บอก python ว่าเราจะเขียนฟังก์ชัน ชื่ออะไร def function_name(): (ขาดไม่ได้)\r\n",
        "  2. กำหนดตัวแปรที่จะเป็น input output (ขาดได้)\r\n",
        "  3. ส่นประมวลผล do_something with _Input_ to get _Output_ (ขาดไม่ได้)\r\n",
        "  4. ส่วน output return _Output_ (ขาดได้)\r\n",
        "\r\n",
        "เราใช้เว้นวรรค (indent) เพื่อบอกขอบเขตของ code\r\n",
        "\r\n",
        "หน้าที่คือรับ input และทำตามกระบวนการละก็ได้ Output ออกมา"
      ]
    },
    {
      "cell_type": "markdown",
      "metadata": {
        "id": "MMyW6uYMWTbs"
      },
      "source": [
        "### สร้างฟังก์ชัน"
      ]
    },
    {
      "cell_type": "code",
      "metadata": {
        "colab": {
          "base_uri": "https://localhost:8080/"
        },
        "id": "yOPCPax8UyMN",
        "outputId": "fe3a1ea7-0489-49b1-ca3e-e16168bdf553"
      },
      "source": [
        "def print_name(name,surname,ID) : # input มีกี่ตัวก็ได้/ไม่มีก็ได้\r\n",
        "  st = f'ชื่อ {name} นามสกุล {surname} รหัส {ID}'\r\n",
        "  return st\r\n",
        "print('outside function')"
      ],
      "execution_count": 29,
      "outputs": [
        {
          "output_type": "stream",
          "text": [
            "outside function\n"
          ],
          "name": "stdout"
        }
      ]
    },
    {
      "cell_type": "markdown",
      "metadata": {
        "id": "ihC8BGEgWgFU"
      },
      "source": [
        "### เรียกใช้ฟังก์ชัน"
      ]
    },
    {
      "cell_type": "code",
      "metadata": {
        "colab": {
          "base_uri": "https://localhost:8080/",
          "height": 35
        },
        "id": "3ArM6HouVRrE",
        "outputId": "38685dbc-73b7-4d81-b79d-d995e90bdff7"
      },
      "source": [
        "print_name('มินตรา','ทิพยรัตน์สุนทร','623020041-2')"
      ],
      "execution_count": 30,
      "outputs": [
        {
          "output_type": "execute_result",
          "data": {
            "application/vnd.google.colaboratory.intrinsic+json": {
              "type": "string"
            },
            "text/plain": [
              "'ชื่อ มินตรา นามสกุล ทิพยรัตน์สุนทร รหัส 623020041-2'"
            ]
          },
          "metadata": {
            "tags": []
          },
          "execution_count": 30
        }
      ]
    },
    {
      "cell_type": "code",
      "metadata": {
        "colab": {
          "base_uri": "https://localhost:8080/"
        },
        "id": "kpGqskcDW7bk",
        "outputId": "fa2f674d-c298-4a48-b90a-e1368b25f026"
      },
      "source": [
        "output_string = print_name('มินตรา','ทิพยรัตน์สุนทร','623020041-2')\r\n",
        "print(output_string)"
      ],
      "execution_count": 31,
      "outputs": [
        {
          "output_type": "stream",
          "text": [
            "ชื่อ มินตรา นามสกุล ทิพยรัตน์สุนทร รหัส 623020041-2\n"
          ],
          "name": "stdout"
        }
      ]
    },
    {
      "cell_type": "markdown",
      "metadata": {
        "id": "6zQv6AeMXfQO"
      },
      "source": [
        "### ฟังก์ชันไม่จำเป็นต้องมี output"
      ]
    },
    {
      "cell_type": "code",
      "metadata": {
        "id": "3N7VaVErXd4N"
      },
      "source": [
        "def print_name2(surname,ID,name) :\r\n",
        "  st = f'ชื่อ {name} นามสกุล {surname} รหัส {ID}'\r\n",
        "  print(st)"
      ],
      "execution_count": 32,
      "outputs": []
    },
    {
      "cell_type": "code",
      "metadata": {
        "colab": {
          "base_uri": "https://localhost:8080/"
        },
        "id": "ow_lkdeNXwNl",
        "outputId": "4ddba329-7ed7-41b8-97e7-21f44d82caf3"
      },
      "source": [
        "print_name2('มินตรา','ทิพยรัตน์สุนทร','623020041-2')"
      ],
      "execution_count": 33,
      "outputs": [
        {
          "output_type": "stream",
          "text": [
            "ชื่อ 623020041-2 นามสกุล มินตรา รหัส ทิพยรัตน์สุนทร\n"
          ],
          "name": "stdout"
        }
      ]
    },
    {
      "cell_type": "code",
      "metadata": {
        "colab": {
          "base_uri": "https://localhost:8080/"
        },
        "id": "SbyK6Gs5X3fZ",
        "outputId": "76a87478-cdda-4309-a080-50eaf9070498"
      },
      "source": [
        "op2 = print_name2('มินตรา','ทิพยรัตน์สุนทร','623020041-2')"
      ],
      "execution_count": 34,
      "outputs": [
        {
          "output_type": "stream",
          "text": [
            "ชื่อ 623020041-2 นามสกุล มินตรา รหัส ทิพยรัตน์สุนทร\n"
          ],
          "name": "stdout"
        }
      ]
    },
    {
      "cell_type": "code",
      "metadata": {
        "colab": {
          "base_uri": "https://localhost:8080/"
        },
        "id": "XGp8h21PYXC4",
        "outputId": "b1b2cfe7-4ea9-4fb6-c85d-3f2a51b30ddc"
      },
      "source": [
        "print(op2)"
      ],
      "execution_count": 35,
      "outputs": [
        {
          "output_type": "stream",
          "text": [
            "None\n"
          ],
          "name": "stdout"
        }
      ]
    },
    {
      "cell_type": "markdown",
      "metadata": {
        "id": "QOkWVBD4ZR2h"
      },
      "source": [
        "### ฟังก์ชันไม่จำเป็นต้องมี input"
      ]
    },
    {
      "cell_type": "code",
      "metadata": {
        "id": "z2TSbtwqYbWo"
      },
      "source": [
        "def Pi() :\r\n",
        "  return 3.14159265359"
      ],
      "execution_count": 36,
      "outputs": []
    },
    {
      "cell_type": "code",
      "metadata": {
        "colab": {
          "base_uri": "https://localhost:8080/"
        },
        "id": "PmddgNMmY10c",
        "outputId": "22c10df9-18cb-4b38-8cfc-81697240d88f"
      },
      "source": [
        "# คำนวณพื้นที่วงกลมที่มีขนาดเส้นผ่าศูนย์กลางเท่ากับ 3\r\n",
        "Pi()*(1.5**2)"
      ],
      "execution_count": 37,
      "outputs": [
        {
          "output_type": "execute_result",
          "data": {
            "text/plain": [
              "7.0685834705775"
            ]
          },
          "metadata": {
            "tags": []
          },
          "execution_count": 37
        }
      ]
    },
    {
      "cell_type": "code",
      "metadata": {
        "id": "UeQS7P7uZkye"
      },
      "source": [
        "def print_my_name():\r\n",
        "    print('มินตรา ทิพยรัตน์สุนทร 623020041-2')"
      ],
      "execution_count": 38,
      "outputs": []
    },
    {
      "cell_type": "code",
      "metadata": {
        "colab": {
          "base_uri": "https://localhost:8080/"
        },
        "id": "LijdgxEFaO1B",
        "outputId": "e5dcb0c3-eed8-4fd9-dedf-f3a8d142502a"
      },
      "source": [
        "print_my_name()"
      ],
      "execution_count": 39,
      "outputs": [
        {
          "output_type": "stream",
          "text": [
            "มินตรา ทิพยรัตน์สุนทร 623020041-2\n"
          ],
          "name": "stdout"
        }
      ]
    },
    {
      "cell_type": "markdown",
      "metadata": {
        "id": "NYZYqmmiaThD"
      },
      "source": [
        "### input ของ function ใน python มี2แบบ input ที่จำเป็นต้องใส่ (มีค่า default)\r\n",
        "\r\n",
        "### เราต้องเรียง input ที่จำเป็นต้องใส่ขึ้นก่อน"
      ]
    },
    {
      "cell_type": "code",
      "metadata": {
        "id": "oAYUjAOFaRjh"
      },
      "source": [
        "def print_2lines_default(name, surname, ID, grade='F'):\r\n",
        "    st = f'ชื่อ {name} นามสกุล {surname} รหัส {ID}'\r\n",
        "    print(st)\r\n",
        "    st2=f'เกรดวิชา Multivariate >>> {grade}'\r\n",
        "    print(st2)"
      ],
      "execution_count": 40,
      "outputs": []
    },
    {
      "cell_type": "code",
      "metadata": {
        "colab": {
          "base_uri": "https://localhost:8080/"
        },
        "id": "-KIGNxeRbxX3",
        "outputId": "d3913900-9b90-4153-a56b-9b0f75da4d84"
      },
      "source": [
        "print_2lines_default('มินตรา','ทิพยรัตน์สุนทร','623020041-2')"
      ],
      "execution_count": 41,
      "outputs": [
        {
          "output_type": "stream",
          "text": [
            "ชื่อ มินตรา นามสกุล ทิพยรัตน์สุนทร รหัส 623020041-2\n",
            "เกรดวิชา Multivariate >>> F\n"
          ],
          "name": "stdout"
        }
      ]
    },
    {
      "cell_type": "code",
      "metadata": {
        "id": "3LJ9J-5TcKSd",
        "outputId": "e2a92b8b-8273-4a56-d831-9a2f08012f6f",
        "colab": {
          "base_uri": "https://localhost:8080/"
        }
      },
      "source": [
        "print_2lines_default('มินตรา','ทิพยรัตน์สุนทร','623020041-2','A')"
      ],
      "execution_count": 42,
      "outputs": [
        {
          "output_type": "stream",
          "text": [
            "ชื่อ มินตรา นามสกุล ทิพยรัตน์สุนทร รหัส 623020041-2\n",
            "เกรดวิชา Multivariate >>> A\n"
          ],
          "name": "stdout"
        }
      ]
    },
    {
      "cell_type": "markdown",
      "metadata": {
        "id": "zU5Spy6CgiNT"
      },
      "source": [
        "### เราสามารถเรียกฟังก์ชันโดยใช้ชื่อตัวแปรของฟังก์ชันช่วยได้"
      ]
    },
    {
      "cell_type": "code",
      "metadata": {
        "id": "DRjfOV54glnX",
        "outputId": "7c1fce4a-872d-4854-a414-1ae21ae857d8",
        "colab": {
          "base_uri": "https://localhost:8080/"
        }
      },
      "source": [
        "print_name2(name='มินตรา' , surname='ทิพยรัตน์สุนทร' , ID='623020041-2')"
      ],
      "execution_count": 43,
      "outputs": [
        {
          "output_type": "stream",
          "text": [
            "ชื่อ มินตรา นามสกุล ทิพยรัตน์สุนทร รหัส 623020041-2\n"
          ],
          "name": "stdout"
        }
      ]
    },
    {
      "cell_type": "markdown",
      "metadata": {
        "id": "Fu-vrQDycvtQ"
      },
      "source": [
        "HW3 ให้เขียน function คำนวณจำนวณวินาทีจากเวลาต่อไปนี้\r\n",
        "\r\n",
        "'14-15-31'\r\n",
        "\r\n",
        "'13-00-01'\r\n",
        "\r\n",
        "'05-49-44'\r\n",
        "\r\n",
        "'00-00-16'\r\n",
        "\r\n",
        "และ print ให้สวยงาม"
      ]
    },
    {
      "cell_type": "code",
      "metadata": {
        "id": "hFbKDD69deK6"
      },
      "source": [
        "def function_q (times):\r\n",
        "    q = f'เวลาทั้งหมด = {times}'\r\n",
        "    print(q)\r\n",
        "    times_sp = times.split('-')\r\n",
        "    h = int(times_sp[0])*3600\r\n",
        "    m = int(times_sp[1])*60\r\n",
        "    s = int(times_sp[2])\r\n",
        "    aq = h+m+s\r\n",
        "    print(f'คำนวณเป็นวินาทีได้เท่ากับ {aq} วินาที')"
      ],
      "execution_count": 44,
      "outputs": []
    },
    {
      "cell_type": "code",
      "metadata": {
        "id": "I-imWmTaf5wD",
        "outputId": "d4ccf465-1624-466e-a2ec-c424449ac3b5",
        "colab": {
          "base_uri": "https://localhost:8080/"
        }
      },
      "source": [
        "function_q('14-15-31')"
      ],
      "execution_count": 45,
      "outputs": [
        {
          "output_type": "stream",
          "text": [
            "เวลาทั้งหมด = 14-15-31\n",
            "คำนวณเป็นวินาทีได้เท่ากับ 51331 วินาที\n"
          ],
          "name": "stdout"
        }
      ]
    },
    {
      "cell_type": "code",
      "metadata": {
        "id": "0WlfXuGjgxkm",
        "outputId": "0981324f-c1ea-41a4-f430-c3194b4a284b",
        "colab": {
          "base_uri": "https://localhost:8080/"
        }
      },
      "source": [
        "function_q('13-00-01')"
      ],
      "execution_count": 46,
      "outputs": [
        {
          "output_type": "stream",
          "text": [
            "เวลาทั้งหมด = 13-00-01\n",
            "คำนวณเป็นวินาทีได้เท่ากับ 46801 วินาที\n"
          ],
          "name": "stdout"
        }
      ]
    },
    {
      "cell_type": "code",
      "metadata": {
        "id": "nLM5FWuOg6E7",
        "outputId": "57022178-3819-448c-bd26-ddfa06aa3708",
        "colab": {
          "base_uri": "https://localhost:8080/"
        }
      },
      "source": [
        "function_q('05-49-44')"
      ],
      "execution_count": 47,
      "outputs": [
        {
          "output_type": "stream",
          "text": [
            "เวลาทั้งหมด = 05-49-44\n",
            "คำนวณเป็นวินาทีได้เท่ากับ 20984 วินาที\n"
          ],
          "name": "stdout"
        }
      ]
    },
    {
      "cell_type": "code",
      "metadata": {
        "id": "aaQIwuGag7_I",
        "outputId": "b5d1b47a-7170-451a-9621-3c1d415f1105",
        "colab": {
          "base_uri": "https://localhost:8080/"
        }
      },
      "source": [
        "function_q('00-00-16')"
      ],
      "execution_count": 48,
      "outputs": [
        {
          "output_type": "stream",
          "text": [
            "เวลาทั้งหมด = 00-00-16\n",
            "คำนวณเป็นวินาทีได้เท่ากับ 16 วินาที\n"
          ],
          "name": "stdout"
        }
      ]
    }
  ]
}