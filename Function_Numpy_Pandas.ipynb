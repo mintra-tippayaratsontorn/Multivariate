{
  "nbformat": 4,
  "nbformat_minor": 0,
  "metadata": {
    "colab": {
      "name": "Function_Numpy_Pandas.ipynb",
      "provenance": [],
      "authorship_tag": "ABX9TyOGttYvBipk8/hJ30TRE3xL",
      "include_colab_link": true
    },
    "kernelspec": {
      "name": "python3",
      "display_name": "Python 3"
    }
  },
  "cells": [
    {
      "cell_type": "markdown",
      "metadata": {
        "id": "view-in-github",
        "colab_type": "text"
      },
      "source": [
        "<a href=\"https://colab.research.google.com/github/mintra-tippayaratsontorn/Multivariate/blob/main/Function_Numpy_Pandas.ipynb\" target=\"_parent\"><img src=\"https://colab.research.google.com/assets/colab-badge.svg\" alt=\"Open In Colab\"/></a>"
      ]
    },
    {
      "cell_type": "markdown",
      "metadata": {
        "id": "dNyLwyGZhuw8"
      },
      "source": [
        "#Function"
      ]
    },
    {
      "cell_type": "markdown",
      "metadata": {
        "id": "8uasMU8Bfgyc"
      },
      "source": [
        "```python\r\n",
        "def function_name(_Input_) : \r\n",
        "    do_something with _Input_ to get _Output_\r\n",
        "    return _Output_\r\n",
        "```\r\n",
        "\r\n",
        "*เอียง*\r\n",
        "\r\n",
        "```backtick กดค้างตรงที่เปลี่ยนภาษา"
      ]
    },
    {
      "cell_type": "markdown",
      "metadata": {
        "id": "4gRGniRKTj-w"
      },
      "source": [
        "function มีส่วนสำคัญทั้งหมด 4 ส่วน\r\n",
        "  1. บอก python ว่าเราจะเขียนฟังก์ชัน ชื่ออะไร def function_name(): (ขาดไม่ได้)\r\n",
        "  2. กำหนดตัวแปรที่จะเป็น input output (ขาดได้)\r\n",
        "  3. ส่นประมวลผล do_something with _Input_ to get _Output_ (ขาดไม่ได้)\r\n",
        "  4. ส่วน output return _Output_ (ขาดได้)\r\n",
        "\r\n",
        "เราใช้เว้นวรรค (indent) เพื่อบอกขอบเขตของ code\r\n",
        "\r\n",
        "หน้าที่คือรับ input และทำตามกระบวนการละก็ได้ Output ออกมา"
      ]
    },
    {
      "cell_type": "markdown",
      "metadata": {
        "id": "MMyW6uYMWTbs"
      },
      "source": [
        "### สร้างฟังก์ชัน"
      ]
    },
    {
      "cell_type": "code",
      "metadata": {
        "colab": {
          "base_uri": "https://localhost:8080/"
        },
        "id": "yOPCPax8UyMN",
        "outputId": "fe3a1ea7-0489-49b1-ca3e-e16168bdf553"
      },
      "source": [
        "def print_name(name,surname,ID) : # input มีกี่ตัวก็ได้/ไม่มีก็ได้\r\n",
        "  st = f'ชื่อ {name} นามสกุล {surname} รหัส {ID}'\r\n",
        "  return st\r\n",
        "print('outside function')"
      ],
      "execution_count": null,
      "outputs": [
        {
          "output_type": "stream",
          "text": [
            "outside function\n"
          ],
          "name": "stdout"
        }
      ]
    },
    {
      "cell_type": "markdown",
      "metadata": {
        "id": "ihC8BGEgWgFU"
      },
      "source": [
        "### เรียกใช้ฟังก์ชัน"
      ]
    },
    {
      "cell_type": "code",
      "metadata": {
        "colab": {
          "base_uri": "https://localhost:8080/",
          "height": 35
        },
        "id": "3ArM6HouVRrE",
        "outputId": "38685dbc-73b7-4d81-b79d-d995e90bdff7"
      },
      "source": [
        "print_name('มินตรา','ทิพยรัตน์สุนทร','623020041-2')"
      ],
      "execution_count": null,
      "outputs": [
        {
          "output_type": "execute_result",
          "data": {
            "application/vnd.google.colaboratory.intrinsic+json": {
              "type": "string"
            },
            "text/plain": [
              "'ชื่อ มินตรา นามสกุล ทิพยรัตน์สุนทร รหัส 623020041-2'"
            ]
          },
          "metadata": {
            "tags": []
          },
          "execution_count": 30
        }
      ]
    },
    {
      "cell_type": "code",
      "metadata": {
        "colab": {
          "base_uri": "https://localhost:8080/"
        },
        "id": "kpGqskcDW7bk",
        "outputId": "fa2f674d-c298-4a48-b90a-e1368b25f026"
      },
      "source": [
        "output_string = print_name('มินตรา','ทิพยรัตน์สุนทร','623020041-2')\r\n",
        "print(output_string)"
      ],
      "execution_count": null,
      "outputs": [
        {
          "output_type": "stream",
          "text": [
            "ชื่อ มินตรา นามสกุล ทิพยรัตน์สุนทร รหัส 623020041-2\n"
          ],
          "name": "stdout"
        }
      ]
    },
    {
      "cell_type": "markdown",
      "metadata": {
        "id": "6zQv6AeMXfQO"
      },
      "source": [
        "### ฟังก์ชันไม่จำเป็นต้องมี output"
      ]
    },
    {
      "cell_type": "code",
      "metadata": {
        "id": "3N7VaVErXd4N"
      },
      "source": [
        "def print_name2(surname,ID,name) :\r\n",
        "  st = f'ชื่อ {name} นามสกุล {surname} รหัส {ID}'\r\n",
        "  print(st)"
      ],
      "execution_count": null,
      "outputs": []
    },
    {
      "cell_type": "code",
      "metadata": {
        "colab": {
          "base_uri": "https://localhost:8080/"
        },
        "id": "ow_lkdeNXwNl",
        "outputId": "4ddba329-7ed7-41b8-97e7-21f44d82caf3"
      },
      "source": [
        "print_name2('มินตรา','ทิพยรัตน์สุนทร','623020041-2')"
      ],
      "execution_count": null,
      "outputs": [
        {
          "output_type": "stream",
          "text": [
            "ชื่อ 623020041-2 นามสกุล มินตรา รหัส ทิพยรัตน์สุนทร\n"
          ],
          "name": "stdout"
        }
      ]
    },
    {
      "cell_type": "code",
      "metadata": {
        "colab": {
          "base_uri": "https://localhost:8080/"
        },
        "id": "SbyK6Gs5X3fZ",
        "outputId": "76a87478-cdda-4309-a080-50eaf9070498"
      },
      "source": [
        "op2 = print_name2('มินตรา','ทิพยรัตน์สุนทร','623020041-2')"
      ],
      "execution_count": null,
      "outputs": [
        {
          "output_type": "stream",
          "text": [
            "ชื่อ 623020041-2 นามสกุล มินตรา รหัส ทิพยรัตน์สุนทร\n"
          ],
          "name": "stdout"
        }
      ]
    },
    {
      "cell_type": "code",
      "metadata": {
        "colab": {
          "base_uri": "https://localhost:8080/"
        },
        "id": "XGp8h21PYXC4",
        "outputId": "b1b2cfe7-4ea9-4fb6-c85d-3f2a51b30ddc"
      },
      "source": [
        "print(op2)"
      ],
      "execution_count": null,
      "outputs": [
        {
          "output_type": "stream",
          "text": [
            "None\n"
          ],
          "name": "stdout"
        }
      ]
    },
    {
      "cell_type": "markdown",
      "metadata": {
        "id": "QOkWVBD4ZR2h"
      },
      "source": [
        "### ฟังก์ชันไม่จำเป็นต้องมี input"
      ]
    },
    {
      "cell_type": "code",
      "metadata": {
        "id": "z2TSbtwqYbWo"
      },
      "source": [
        "def Pi() :\r\n",
        "  return 3.14159265359"
      ],
      "execution_count": null,
      "outputs": []
    },
    {
      "cell_type": "code",
      "metadata": {
        "colab": {
          "base_uri": "https://localhost:8080/"
        },
        "id": "PmddgNMmY10c",
        "outputId": "22c10df9-18cb-4b38-8cfc-81697240d88f"
      },
      "source": [
        "# คำนวณพื้นที่วงกลมที่มีขนาดเส้นผ่าศูนย์กลางเท่ากับ 3\r\n",
        "Pi()*(1.5**2)"
      ],
      "execution_count": null,
      "outputs": [
        {
          "output_type": "execute_result",
          "data": {
            "text/plain": [
              "7.0685834705775"
            ]
          },
          "metadata": {
            "tags": []
          },
          "execution_count": 37
        }
      ]
    },
    {
      "cell_type": "code",
      "metadata": {
        "id": "UeQS7P7uZkye"
      },
      "source": [
        "def print_my_name():\r\n",
        "    print('มินตรา ทิพยรัตน์สุนทร 623020041-2')"
      ],
      "execution_count": null,
      "outputs": []
    },
    {
      "cell_type": "code",
      "metadata": {
        "colab": {
          "base_uri": "https://localhost:8080/"
        },
        "id": "LijdgxEFaO1B",
        "outputId": "e5dcb0c3-eed8-4fd9-dedf-f3a8d142502a"
      },
      "source": [
        "print_my_name()"
      ],
      "execution_count": null,
      "outputs": [
        {
          "output_type": "stream",
          "text": [
            "มินตรา ทิพยรัตน์สุนทร 623020041-2\n"
          ],
          "name": "stdout"
        }
      ]
    },
    {
      "cell_type": "markdown",
      "metadata": {
        "id": "NYZYqmmiaThD"
      },
      "source": [
        "### input ของ function ใน python มี2แบบ input ที่จำเป็นต้องใส่ (มีค่า default)\r\n",
        "\r\n",
        "### เราต้องเรียง input ที่จำเป็นต้องใส่ขึ้นก่อน"
      ]
    },
    {
      "cell_type": "code",
      "metadata": {
        "id": "oAYUjAOFaRjh"
      },
      "source": [
        "def print_2lines_default(name, surname, ID, grade='F'):\r\n",
        "    st = f'ชื่อ {name} นามสกุล {surname} รหัส {ID}'\r\n",
        "    print(st)\r\n",
        "    st2=f'เกรดวิชา Multivariate >>> {grade}'\r\n",
        "    print(st2)"
      ],
      "execution_count": null,
      "outputs": []
    },
    {
      "cell_type": "code",
      "metadata": {
        "colab": {
          "base_uri": "https://localhost:8080/"
        },
        "id": "-KIGNxeRbxX3",
        "outputId": "d3913900-9b90-4153-a56b-9b0f75da4d84"
      },
      "source": [
        "print_2lines_default('มินตรา','ทิพยรัตน์สุนทร','623020041-2')"
      ],
      "execution_count": null,
      "outputs": [
        {
          "output_type": "stream",
          "text": [
            "ชื่อ มินตรา นามสกุล ทิพยรัตน์สุนทร รหัส 623020041-2\n",
            "เกรดวิชา Multivariate >>> F\n"
          ],
          "name": "stdout"
        }
      ]
    },
    {
      "cell_type": "code",
      "metadata": {
        "id": "3LJ9J-5TcKSd",
        "colab": {
          "base_uri": "https://localhost:8080/"
        },
        "outputId": "e2a92b8b-8273-4a56-d831-9a2f08012f6f"
      },
      "source": [
        "print_2lines_default('มินตรา','ทิพยรัตน์สุนทร','623020041-2','A')"
      ],
      "execution_count": null,
      "outputs": [
        {
          "output_type": "stream",
          "text": [
            "ชื่อ มินตรา นามสกุล ทิพยรัตน์สุนทร รหัส 623020041-2\n",
            "เกรดวิชา Multivariate >>> A\n"
          ],
          "name": "stdout"
        }
      ]
    },
    {
      "cell_type": "markdown",
      "metadata": {
        "id": "zU5Spy6CgiNT"
      },
      "source": [
        "### เราสามารถเรียกฟังก์ชันโดยใช้ชื่อตัวแปรของฟังก์ชันช่วยได้"
      ]
    },
    {
      "cell_type": "code",
      "metadata": {
        "id": "DRjfOV54glnX",
        "colab": {
          "base_uri": "https://localhost:8080/"
        },
        "outputId": "7c1fce4a-872d-4854-a414-1ae21ae857d8"
      },
      "source": [
        "print_name2(name='มินตรา' , surname='ทิพยรัตน์สุนทร' , ID='623020041-2')"
      ],
      "execution_count": null,
      "outputs": [
        {
          "output_type": "stream",
          "text": [
            "ชื่อ มินตรา นามสกุล ทิพยรัตน์สุนทร รหัส 623020041-2\n"
          ],
          "name": "stdout"
        }
      ]
    },
    {
      "cell_type": "markdown",
      "metadata": {
        "id": "Fu-vrQDycvtQ"
      },
      "source": [
        "HW3 ให้เขียน function คำนวณจำนวณวินาทีจากเวลาต่อไปนี้\r\n",
        "\r\n",
        "'14-15-31'\r\n",
        "\r\n",
        "'13-00-01'\r\n",
        "\r\n",
        "'05-49-44'\r\n",
        "\r\n",
        "'00-00-16'\r\n",
        "\r\n",
        "และ print ให้สวยงาม"
      ]
    },
    {
      "cell_type": "code",
      "metadata": {
        "id": "hFbKDD69deK6"
      },
      "source": [
        "def function_q (times):\r\n",
        "    q = f'เวลาทั้งหมด -> {times}'\r\n",
        "    print(q)\r\n",
        "    times_sp = times.split('-')\r\n",
        "    h = int(times_sp[0])*3600\r\n",
        "    m = int(times_sp[1])*60\r\n",
        "    s = int(times_sp[2])\r\n",
        "    aq = h+m+s\r\n",
        "    print(f'คำนวณเป็นวินาทีได้เท่ากับ {aq} วินาที')"
      ],
      "execution_count": 7,
      "outputs": []
    },
    {
      "cell_type": "code",
      "metadata": {
        "id": "I-imWmTaf5wD",
        "colab": {
          "base_uri": "https://localhost:8080/"
        },
        "outputId": "b00bc125-b254-43d6-bc1d-a4d62eb1e871"
      },
      "source": [
        "function_q('14-15-31')"
      ],
      "execution_count": 8,
      "outputs": [
        {
          "output_type": "stream",
          "text": [
            "เวลาทั้งหมด -> 14-15-31\n",
            "คำนวณเป็นวินาทีได้เท่ากับ 51331 วินาที\n"
          ],
          "name": "stdout"
        }
      ]
    },
    {
      "cell_type": "code",
      "metadata": {
        "id": "0WlfXuGjgxkm",
        "colab": {
          "base_uri": "https://localhost:8080/"
        },
        "outputId": "59fd873c-cec2-4d45-cfcc-c09e345f05fb"
      },
      "source": [
        "function_q('13-00-01')"
      ],
      "execution_count": 9,
      "outputs": [
        {
          "output_type": "stream",
          "text": [
            "เวลาทั้งหมด -> 13-00-01\n",
            "คำนวณเป็นวินาทีได้เท่ากับ 46801 วินาที\n"
          ],
          "name": "stdout"
        }
      ]
    },
    {
      "cell_type": "code",
      "metadata": {
        "id": "nLM5FWuOg6E7",
        "colab": {
          "base_uri": "https://localhost:8080/"
        },
        "outputId": "adee7a0b-471c-4f73-adc0-f59e42ad7766"
      },
      "source": [
        "function_q('05-49-44')"
      ],
      "execution_count": 10,
      "outputs": [
        {
          "output_type": "stream",
          "text": [
            "เวลาทั้งหมด -> 05-49-44\n",
            "คำนวณเป็นวินาทีได้เท่ากับ 20984 วินาที\n"
          ],
          "name": "stdout"
        }
      ]
    },
    {
      "cell_type": "code",
      "metadata": {
        "id": "aaQIwuGag7_I",
        "colab": {
          "base_uri": "https://localhost:8080/"
        },
        "outputId": "9de28f04-574e-4bb5-d9aa-e9cc23b5afe3"
      },
      "source": [
        "function_q('00-00-16')"
      ],
      "execution_count": 11,
      "outputs": [
        {
          "output_type": "stream",
          "text": [
            "เวลาทั้งหมด -> 00-00-16\n",
            "คำนวณเป็นวินาทีได้เท่ากับ 16 วินาที\n"
          ],
          "name": "stdout"
        }
      ]
    },
    {
      "cell_type": "markdown",
      "metadata": {
        "id": "ZxCnEh4oQWLM"
      },
      "source": [
        "# Numpy\r\n",
        "\r\n",
        "เป็น package สำหรับจัดการกับ Array ที่เป็นตัวเลข (Matrix)\r\n",
        "\r\n",
        "num + py ย่อมาจาก Number-Numberical + pythion\r\n",
        "\r\n",
        "การใช้ package\r\n",
        "1. ```import``` ```ชื่อ package``` # เรียกใช้package\r\n",
        "2. ```ชื่อpackage``` , ```ชื่อ function``` #เรียกใช้function"
      ]
    },
    {
      "cell_type": "code",
      "metadata": {
        "id": "K9XOhBPeQfg6"
      },
      "source": [
        "import numpy"
      ],
      "execution_count": 2,
      "outputs": []
    },
    {
      "cell_type": "markdown",
      "metadata": {
        "id": "7CQ77h_KSal4"
      },
      "source": [
        "data structure -> array\r\n",
        "\r\n",
        "สร้าง array (numpy array)"
      ]
    },
    {
      "cell_type": "code",
      "metadata": {
        "id": "m-u4mLC7Sj3T",
        "outputId": "b7065794-dd68-42e5-bdf3-f44e9f5495d8",
        "colab": {
          "base_uri": "https://localhost:8080/"
        }
      },
      "source": [
        "mat_ex1 = numpy.array([[5.2,3.0,4.5],[9.1,0.1,0.3]])\r\n",
        "print (mat_ex1)"
      ],
      "execution_count": 4,
      "outputs": [
        {
          "output_type": "stream",
          "text": [
            "[[5.2 3.  4.5]\n",
            " [9.1 0.1 0.3]]\n"
          ],
          "name": "stdout"
        }
      ]
    },
    {
      "cell_type": "markdown",
      "metadata": {
        "id": "dYaqCf-yUxb5"
      },
      "source": [
        "ชี้ค่าใน numpy array"
      ]
    },
    {
      "cell_type": "code",
      "metadata": {
        "id": "ZB90iOt6Sj0k",
        "outputId": "7d637041-5567-4568-9b58-fe5b514139d7",
        "colab": {
          "base_uri": "https://localhost:8080/"
        }
      },
      "source": [
        "mat_ex1[1,1]  # [แถว(แนวนอน),หลัก(แนวตั้ง)] และการนับต้องเริ่มจาก0ไปเรี่อยๆ"
      ],
      "execution_count": 5,
      "outputs": [
        {
          "output_type": "execute_result",
          "data": {
            "text/plain": [
              "0.1"
            ]
          },
          "metadata": {
            "tags": []
          },
          "execution_count": 5
        }
      ]
    },
    {
      "cell_type": "markdown",
      "metadata": {
        "id": "dAfNJMAmVx3D"
      },
      "source": [
        "ถ้าไม่มี numpy array "
      ]
    },
    {
      "cell_type": "code",
      "metadata": {
        "id": "H2QgHhS3Sjxz",
        "outputId": "40567d4b-002e-464a-a316-d54384595e97",
        "colab": {
          "base_uri": "https://localhost:8080/"
        }
      },
      "source": [
        "list_ex1 = [[5.2,3.0,4.5],[9.1,0.1,0.3]]\r\n",
        "print(list_ex1)"
      ],
      "execution_count": 6,
      "outputs": [
        {
          "output_type": "stream",
          "text": [
            "[[5.2, 3.0, 4.5], [9.1, 0.1, 0.3]]\n"
          ],
          "name": "stdout"
        }
      ]
    },
    {
      "cell_type": "code",
      "metadata": {
        "id": "dQhwAnJEWA4C",
        "outputId": "1a05d259-aed2-40ac-b5a3-759941413439",
        "colab": {
          "base_uri": "https://localhost:8080/"
        }
      },
      "source": [
        "list_ex1[1][1]  #วิธีเลือกตัวในlistออกมา"
      ],
      "execution_count": 18,
      "outputs": [
        {
          "output_type": "execute_result",
          "data": {
            "text/plain": [
              "0.1"
            ]
          },
          "metadata": {
            "tags": []
          },
          "execution_count": 18
        }
      ]
    },
    {
      "cell_type": "code",
      "metadata": {
        "id": "nPlSWYhsWA1P",
        "outputId": "05aee47c-fe9c-455b-c1d1-aafa80a87ab8",
        "colab": {
          "base_uri": "https://localhost:8080/"
        }
      },
      "source": [
        "print(list_ex1)\r\n",
        "a = list_ex1[1]\r\n",
        "print(a)\r\n",
        "print(a[1])"
      ],
      "execution_count": 20,
      "outputs": [
        {
          "output_type": "stream",
          "text": [
            "[[5.2, 3.0, 4.5], [9.1, 0.1, 0.3]]\n",
            "[9.1, 0.1, 0.3]\n",
            "0.1\n"
          ],
          "name": "stdout"
        }
      ]
    },
    {
      "cell_type": "markdown",
      "metadata": {
        "id": "Po0ZZDVRX8Ew"
      },
      "source": [
        "Martrix Operations\r\n",
        "\r\n",
        "data 2 แบบ -> matrix (2D array) และ scalar (ตัวเลขค่าคงที่)"
      ]
    },
    {
      "cell_type": "code",
      "metadata": {
        "id": "mXOdlwEEWtEe",
        "outputId": "c04bfab1-3e65-4669-84c2-905a77ee854c",
        "colab": {
          "base_uri": "https://localhost:8080/"
        }
      },
      "source": [
        "mat_ex1 = numpy.array([[5.2,3.0,4.5],[9.1,0.1,0.3]])\r\n",
        "print(mat_ex1)\r\n",
        "mat_ex2 = numpy.array([[2,3.7,5.9],[91,1.5,7.3]])\r\n",
        "print(mat_ex2)"
      ],
      "execution_count": 21,
      "outputs": [
        {
          "output_type": "stream",
          "text": [
            "[[5.2 3.  4.5]\n",
            " [9.1 0.1 0.3]]\n",
            "[[ 2.   3.7  5.9]\n",
            " [91.   1.5  7.3]]\n"
          ],
          "name": "stdout"
        }
      ]
    },
    {
      "cell_type": "markdown",
      "metadata": {
        "id": "IPcj0pT0ZNSd"
      },
      "source": [
        "### การบวก/ลบ matrix เอาตัวเลขที่อยู่ตำแหน่งเดียวกันบวก/ลบกัน\r\n",
        "\r\n",
        "(ขนาดของ matrix ต้องเหมือนกัน)"
      ]
    },
    {
      "cell_type": "code",
      "metadata": {
        "id": "0yjCRYfkZ6Vk",
        "outputId": "6b990278-9e56-4573-9052-7d83c3527583",
        "colab": {
          "base_uri": "https://localhost:8080/"
        }
      },
      "source": [
        "mat_ex0 = numpy.array([[1,2],[3,4]])\r\n",
        "print(mat_ex0)"
      ],
      "execution_count": 27,
      "outputs": [
        {
          "output_type": "stream",
          "text": [
            "[[1 2]\n",
            " [3 4]]\n"
          ],
          "name": "stdout"
        }
      ]
    },
    {
      "cell_type": "code",
      "metadata": {
        "id": "VLRLcLPXWs_o",
        "outputId": "12bb73b6-eb40-4871-8ff8-9e5a4e830acc",
        "colab": {
          "base_uri": "https://localhost:8080/"
        }
      },
      "source": [
        "mat_ex3 = mat_ex1 + mat_ex2\r\n",
        "print(mat_ex3)\r\n",
        "mat_ex4 = mat_ex1 - mat_ex2\r\n",
        "print(mat_ex4)"
      ],
      "execution_count": 28,
      "outputs": [
        {
          "output_type": "stream",
          "text": [
            "[[  7.2   6.7  10.4]\n",
            " [100.1   1.6   7.6]]\n",
            "[[  3.2  -0.7  -1.4]\n",
            " [-81.9  -1.4  -7. ]]\n"
          ],
          "name": "stdout"
        }
      ]
    },
    {
      "cell_type": "code",
      "metadata": {
        "id": "5ljSxDxpZvHD",
        "outputId": "75f25d34-ac05-42b0-e768-493112ad18f7",
        "colab": {
          "base_uri": "https://localhost:8080/",
          "height": 162
        }
      },
      "source": [
        "mat_ex1 + mat_ex0 "
      ],
      "execution_count": 29,
      "outputs": [
        {
          "output_type": "error",
          "ename": "ValueError",
          "evalue": "ignored",
          "traceback": [
            "\u001b[0;31m---------------------------------------------------------------------------\u001b[0m",
            "\u001b[0;31mValueError\u001b[0m                                Traceback (most recent call last)",
            "\u001b[0;32m<ipython-input-29-845dfe53b6e9>\u001b[0m in \u001b[0;36m<module>\u001b[0;34m()\u001b[0m\n\u001b[0;32m----> 1\u001b[0;31m \u001b[0mmat_ex1\u001b[0m \u001b[0;34m+\u001b[0m \u001b[0mmat_ex0\u001b[0m\u001b[0;34m\u001b[0m\u001b[0;34m\u001b[0m\u001b[0m\n\u001b[0m",
            "\u001b[0;31mValueError\u001b[0m: operands could not be broadcast together with shapes (2,3) (2,2) "
          ]
        }
      ]
    },
    {
      "cell_type": "markdown",
      "metadata": {
        "id": "D6y3F_oTaJpT"
      },
      "source": [
        "### การตรวจสอบขนาดของ matrix"
      ]
    },
    {
      "cell_type": "code",
      "metadata": {
        "id": "PFyqK9v0ZvEs",
        "outputId": "fca67e61-1ff8-4d5a-cd60-47520742eeea",
        "colab": {
          "base_uri": "https://localhost:8080/"
        }
      },
      "source": [
        "mat_ex3.shape"
      ],
      "execution_count": 30,
      "outputs": [
        {
          "output_type": "execute_result",
          "data": {
            "text/plain": [
              "(2, 3)"
            ]
          },
          "metadata": {
            "tags": []
          },
          "execution_count": 30
        }
      ]
    },
    {
      "cell_type": "code",
      "metadata": {
        "id": "r0BN-DqwZvB4",
        "outputId": "ff525bb2-1d70-483b-df4b-0d48da923f66",
        "colab": {
          "base_uri": "https://localhost:8080/"
        }
      },
      "source": [
        "mat_ex3.shape[0]  #ดูขนาดแถวของ matrix"
      ],
      "execution_count": 31,
      "outputs": [
        {
          "output_type": "execute_result",
          "data": {
            "text/plain": [
              "2"
            ]
          },
          "metadata": {
            "tags": []
          },
          "execution_count": 31
        }
      ]
    },
    {
      "cell_type": "markdown",
      "metadata": {
        "id": "Y8hJ6CCNey0d"
      },
      "source": [
        "### การคูณ Matrix (แถวคูณหลัก)\r\n",
        "(หลักของ Matrix ตัวข้างหน้า ต้องเท่ากับแถวของ Matrix ตัวข้างหลัง)\r\n",
        "\r\n",
        "dot product((AAA,x),(x,ZZZ)) = (AAA,ZZZ)"
      ]
    },
    {
      "cell_type": "code",
      "metadata": {
        "id": "Wai9lxRxa9yC",
        "outputId": "2e977759-2d99-4455-c00d-d787465943cd",
        "colab": {
          "base_uri": "https://localhost:8080/"
        }
      },
      "source": [
        "mat_ex1 * mat_ex2 # การคูณ matrix ไม่ใช้วิธีแบบนี้"
      ],
      "execution_count": 35,
      "outputs": [
        {
          "output_type": "execute_result",
          "data": {
            "text/plain": [
              "array([[1.040e+01, 1.110e+01, 2.655e+01],\n",
              "       [8.281e+02, 1.500e-01, 2.190e+00]])"
            ]
          },
          "metadata": {
            "tags": []
          },
          "execution_count": 35
        }
      ]
    },
    {
      "cell_type": "code",
      "metadata": {
        "id": "5aPtyJS6cgX8",
        "outputId": "787e96aa-fe97-4e5e-d54a-482ac12570f3",
        "colab": {
          "base_uri": "https://localhost:8080/",
          "height": 195
        }
      },
      "source": [
        "numpy.dot(mat_ex1,mat_ex2) # ต้องtransposeก่อน"
      ],
      "execution_count": 40,
      "outputs": [
        {
          "output_type": "error",
          "ename": "ValueError",
          "evalue": "ignored",
          "traceback": [
            "\u001b[0;31m---------------------------------------------------------------------------\u001b[0m",
            "\u001b[0;31mValueError\u001b[0m                                Traceback (most recent call last)",
            "\u001b[0;32m<ipython-input-40-87326e5d09ab>\u001b[0m in \u001b[0;36m<module>\u001b[0;34m()\u001b[0m\n\u001b[0;32m----> 1\u001b[0;31m \u001b[0mnumpy\u001b[0m\u001b[0;34m.\u001b[0m\u001b[0mdot\u001b[0m\u001b[0;34m(\u001b[0m\u001b[0mmat_ex1\u001b[0m\u001b[0;34m,\u001b[0m\u001b[0mmat_ex2\u001b[0m\u001b[0;34m)\u001b[0m\u001b[0;34m\u001b[0m\u001b[0;34m\u001b[0m\u001b[0m\n\u001b[0m",
            "\u001b[0;32m<__array_function__ internals>\u001b[0m in \u001b[0;36mdot\u001b[0;34m(*args, **kwargs)\u001b[0m\n",
            "\u001b[0;31mValueError\u001b[0m: shapes (2,3) and (2,3) not aligned: 3 (dim 1) != 2 (dim 0)"
          ]
        }
      ]
    },
    {
      "cell_type": "code",
      "metadata": {
        "id": "22wfiobPa9v8",
        "outputId": "8319ee64-f549-4e34-f546-64af431ff96e",
        "colab": {
          "base_uri": "https://localhost:8080/"
        }
      },
      "source": [
        "print(mat_ex1)\r\n",
        "print(mat_ex1.shape)\r\n",
        "print(mat_ex2)\r\n",
        "print(mat_ex2.shape)"
      ],
      "execution_count": 42,
      "outputs": [
        {
          "output_type": "stream",
          "text": [
            "[[5.2 3.  4.5]\n",
            " [9.1 0.1 0.3]]\n",
            "(2, 3)\n",
            "[[ 2.   3.7  5.9]\n",
            " [91.   1.5  7.3]]\n",
            "(2, 3)\n"
          ],
          "name": "stdout"
        }
      ]
    },
    {
      "cell_type": "markdown",
      "metadata": {
        "id": "qKvDT2Slf48d"
      },
      "source": [
        "# Transpose กลับแถวเป็นหลัก/กลับหลักเป็นแถว\r\n",
        "```matrix.T```"
      ]
    },
    {
      "cell_type": "code",
      "metadata": {
        "id": "mDYB3YjGhFxM",
        "outputId": "5bba990d-39b1-48ef-93bb-04af410811a9",
        "colab": {
          "base_uri": "https://localhost:8080/"
        }
      },
      "source": [
        "print(mat_ex2)\r\n",
        "print(mat_ex2.shape)"
      ],
      "execution_count": 44,
      "outputs": [
        {
          "output_type": "stream",
          "text": [
            "[[ 2.   3.7  5.9]\n",
            " [91.   1.5  7.3]]\n",
            "(2, 3)\n"
          ],
          "name": "stdout"
        }
      ]
    },
    {
      "cell_type": "code",
      "metadata": {
        "id": "6m1Ki_AshHMV",
        "outputId": "f45f94e8-8654-41f4-9e56-7f2d9253e646",
        "colab": {
          "base_uri": "https://localhost:8080/"
        }
      },
      "source": [
        "print(mat_ex2.T)\r\n",
        "print(mat_ex2.T.shape)"
      ],
      "execution_count": 45,
      "outputs": [
        {
          "output_type": "stream",
          "text": [
            "[[ 2.  91. ]\n",
            " [ 3.7  1.5]\n",
            " [ 5.9  7.3]]\n",
            "(3, 2)\n"
          ],
          "name": "stdout"
        }
      ]
    },
    {
      "cell_type": "code",
      "metadata": {
        "id": "HdFxxKnua9th",
        "outputId": "4826d4fe-5855-48f7-8d7c-0fe553485416",
        "colab": {
          "base_uri": "https://localhost:8080/"
        }
      },
      "source": [
        "numpy.dot(mat_ex1,mat_ex2.T)  # (2,3).(3,2)"
      ],
      "execution_count": 43,
      "outputs": [
        {
          "output_type": "execute_result",
          "data": {
            "text/plain": [
              "array([[ 48.05, 510.55],\n",
              "       [ 20.34, 830.44]])"
            ]
          },
          "metadata": {
            "tags": []
          },
          "execution_count": 43
        }
      ]
    },
    {
      "cell_type": "code",
      "metadata": {
        "id": "sjVfuUmua9rC",
        "outputId": "fe686ddd-0fd1-4dbc-d1bd-609c4bddb510",
        "colab": {
          "base_uri": "https://localhost:8080/"
        }
      },
      "source": [
        "numpy.dot(mat_ex1.T,mat_ex2)  # (3,2).(2,3) = (3,3)"
      ],
      "execution_count": 46,
      "outputs": [
        {
          "output_type": "execute_result",
          "data": {
            "text/plain": [
              "array([[838.5 ,  32.89,  97.11],\n",
              "       [ 15.1 ,  11.25,  18.43],\n",
              "       [ 36.3 ,  17.1 ,  28.74]])"
            ]
          },
          "metadata": {
            "tags": []
          },
          "execution_count": 46
        }
      ]
    },
    {
      "cell_type": "markdown",
      "metadata": {
        "id": "Y6XLAKKZi4u5"
      },
      "source": [
        "HW4 อธิบายการหา Determinant และ Inverse Matrix (รูปและคำอธิบาย)"
      ]
    },
    {
      "cell_type": "markdown",
      "metadata": {
        "id": "jCN1M6MQQH-N"
      },
      "source": [
        "~Pandas~"
      ]
    }
  ]
}